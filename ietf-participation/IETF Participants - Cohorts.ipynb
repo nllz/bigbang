{
 "cells": [
  {
   "cell_type": "markdown",
   "metadata": {},
   "source": [
    "We want to analyze participants and patterns of participation across IETF groups. \n",
    "\n",
    "Specifically, what are the lengths of participation? Are there new cohorts of participation over time? What is attrition like in IETF mailing list participation? How long do people participate for?"
   ]
  },
  {
   "cell_type": "markdown",
   "metadata": {},
   "source": [
    "## Setup and gather data"
   ]
  },
  {
   "cell_type": "markdown",
   "metadata": {},
   "source": [
    "Start by importing the necessary libraries."
   ]
  },
  {
   "cell_type": "code",
   "execution_count": 1,
   "metadata": {
    "collapsed": true
   },
   "outputs": [],
   "source": [
    "%matplotlib inline\n",
    "import bigbang.mailman as mailman\n",
    "import bigbang.graph as graph\n",
    "import bigbang.process as process\n",
    "from bigbang.parse import get_date\n",
    "from bigbang.archive import Archive\n",
    "import bigbang.utils as utils\n",
    "import pandas as pd\n",
    "import datetime\n",
    "import matplotlib.pyplot as plt\n",
    "import numpy as np\n",
    "import math\n",
    "import pytz\n",
    "import pickle\n",
    "import os\n",
    "import csv\n",
    "import re\n",
    "import scipy\n",
    "import scipy.cluster.hierarchy as sch\n",
    "import email\n",
    "import gc"
   ]
  },
  {
   "cell_type": "code",
   "execution_count": 2,
   "metadata": {
    "collapsed": false
   },
   "outputs": [],
   "source": [
    "import logging\n",
    "reload(logging)\n",
    "logging.basicConfig(format='%(asctime)s %(levelname)s:%(message)s', level=logging.INFO, datefmt='%I:%M:%S')"
   ]
  },
  {
   "cell_type": "code",
   "execution_count": 3,
   "metadata": {
    "collapsed": false
   },
   "outputs": [],
   "source": [
    "#pd.options.display.mpl_style = 'default' # pandas has a set of preferred graph formatting options\n",
    "plt.rcParams['axes.facecolor'] = 'white'\n",
    "import seaborn as sns\n",
    "sns.set()\n",
    "sns.set_style(\"white\")"
   ]
  },
  {
   "cell_type": "markdown",
   "metadata": {},
   "source": [
    "Let's start with a single IETF mailing list. (Later, we can expand to all current groups, or all IETF lists ever.)"
   ]
  },
  {
   "cell_type": "code",
   "execution_count": 4,
   "metadata": {
    "collapsed": false
   },
   "outputs": [
    {
     "name": "stdout",
     "output_type": "stream",
     "text": [
      "43\n",
      "Opening 43 archive files\n"
     ]
    }
   ],
   "source": [
    "list_url = 'https://www.ietf.org/mail-archive/text/perpass/' # perpass happens to be one that I subscribe to\n",
    "\n",
    "ietf_archives_dir = '../../ietf-archives' # relative location of the ietf-archives directory/repo\n",
    "\n",
    "list_archive = mailman.open_list_archives(list_url, ietf_archives_dir)\n",
    "activity = None\n",
    "activity = Archive(list_archive).get_activity()"
   ]
  },
  {
   "cell_type": "markdown",
   "metadata": {},
   "source": [
    "## When do people first send to the mailing list?"
   ]
  },
  {
   "cell_type": "markdown",
   "metadata": {},
   "source": [
    "For this mailing list, we'll create a histogram of people in the list and when they sent their first message to the list."
   ]
  },
  {
   "cell_type": "code",
   "execution_count": 5,
   "metadata": {
    "collapsed": false
   },
   "outputs": [
    {
     "data": {
      "image/png": "[encoded data removed]",
      "text/plain": [
       "<matplotlib.figure.Figure at 0x1137625d0>"
      ]
     },
     "metadata": {},
     "output_type": "display_data"
    }
   ],
   "source": [
    "fig = plt.figure(figsize=(12.5, 7.5))\n",
    "\n",
    "(activity > 0).idxmax().hist()\n",
    "\n",
    "fig.axes[0].xaxis_date()"
   ]
  },
  {
   "cell_type": "markdown",
   "metadata": {},
   "source": [
    "For this mailing list, it appears that most people joined the list near the beginning of the list, and few new people join over time."
   ]
  },
  {
   "cell_type": "code",
   "execution_count": 7,
   "metadata": {
    "collapsed": false
   },
   "outputs": [],
   "source": [
    "person_activity = activity.T"
   ]
  },
  {
   "cell_type": "code",
   "execution_count": 8,
   "metadata": {
    "collapsed": false
   },
   "outputs": [
    {
     "data": {
      "text/html": [
       "<div>\n",
       "<style scoped>\n",
       "    .dataframe tbody tr th:only-of-type {\n",
       "        vertical-align: middle;\n",
       "    }\n",
       "\n",
       "    .dataframe tbody tr th {\n",
       "        vertical-align: top;\n",
       "    }\n",
       "\n",
       "    .dataframe thead th {\n",
       "        text-align: right;\n",
       "    }\n",
       "</style>\n",
       "<table border=\"1\" class=\"dataframe\">\n",
       "  <thead>\n",
       "    <tr style=\"text-align: right;\">\n",
       "      <th>Date</th>\n",
       "      <th>735095</th>\n",
       "      <th>735096</th>\n",
       "      <th>735097</th>\n",
       "      <th>735098</th>\n",
       "      <th>735099</th>\n",
       "      <th>735100</th>\n",
       "      <th>735101</th>\n",
       "      <th>735102</th>\n",
       "      <th>735103</th>\n",
       "      <th>735104</th>\n",
       "      <th>...</th>\n",
       "      <th>736514</th>\n",
       "      <th>736515</th>\n",
       "      <th>736516</th>\n",
       "      <th>736517</th>\n",
       "      <th>736518</th>\n",
       "      <th>736519</th>\n",
       "      <th>736520</th>\n",
       "      <th>Earliest Date</th>\n",
       "      <th>Latest Date</th>\n",
       "      <th>Total Messages</th>\n",
       "    </tr>\n",
       "  </thead>\n",
       "  <tbody>\n",
       "    <tr>\n",
       "      <th>count</th>\n",
       "      <td>261.000000</td>\n",
       "      <td>261.000000</td>\n",
       "      <td>261.000000</td>\n",
       "      <td>261.000000</td>\n",
       "      <td>261.000000</td>\n",
       "      <td>261.000000</td>\n",
       "      <td>261.000000</td>\n",
       "      <td>261.0</td>\n",
       "      <td>261.0</td>\n",
       "      <td>261.0</td>\n",
       "      <td>...</td>\n",
       "      <td>261.0</td>\n",
       "      <td>261.0</td>\n",
       "      <td>261.0</td>\n",
       "      <td>261.0</td>\n",
       "      <td>261.0</td>\n",
       "      <td>261.0</td>\n",
       "      <td>261.0</td>\n",
       "      <td>261.000000</td>\n",
       "      <td>261.000000</td>\n",
       "      <td>261.000000</td>\n",
       "    </tr>\n",
       "    <tr>\n",
       "      <th>mean</th>\n",
       "      <td>0.007663</td>\n",
       "      <td>0.003831</td>\n",
       "      <td>0.091954</td>\n",
       "      <td>0.034483</td>\n",
       "      <td>0.030651</td>\n",
       "      <td>0.019157</td>\n",
       "      <td>0.022989</td>\n",
       "      <td>0.0</td>\n",
       "      <td>0.0</td>\n",
       "      <td>0.0</td>\n",
       "      <td>...</td>\n",
       "      <td>0.0</td>\n",
       "      <td>0.0</td>\n",
       "      <td>0.0</td>\n",
       "      <td>0.0</td>\n",
       "      <td>0.0</td>\n",
       "      <td>0.0</td>\n",
       "      <td>0.0</td>\n",
       "      <td>735275.938697</td>\n",
       "      <td>735461.072797</td>\n",
       "      <td>8.015326</td>\n",
       "    </tr>\n",
       "    <tr>\n",
       "      <th>std</th>\n",
       "      <td>0.087369</td>\n",
       "      <td>0.061898</td>\n",
       "      <td>0.546996</td>\n",
       "      <td>0.253359</td>\n",
       "      <td>0.261319</td>\n",
       "      <td>0.222781</td>\n",
       "      <td>0.213596</td>\n",
       "      <td>0.0</td>\n",
       "      <td>0.0</td>\n",
       "      <td>0.0</td>\n",
       "      <td>...</td>\n",
       "      <td>0.0</td>\n",
       "      <td>0.0</td>\n",
       "      <td>0.0</td>\n",
       "      <td>0.0</td>\n",
       "      <td>0.0</td>\n",
       "      <td>0.0</td>\n",
       "      <td>0.0</td>\n",
       "      <td>274.335119</td>\n",
       "      <td>380.839536</td>\n",
       "      <td>18.733961</td>\n",
       "    </tr>\n",
       "    <tr>\n",
       "      <th>min</th>\n",
       "      <td>0.000000</td>\n",
       "      <td>0.000000</td>\n",
       "      <td>0.000000</td>\n",
       "      <td>0.000000</td>\n",
       "      <td>0.000000</td>\n",
       "      <td>0.000000</td>\n",
       "      <td>0.000000</td>\n",
       "      <td>0.0</td>\n",
       "      <td>0.0</td>\n",
       "      <td>0.0</td>\n",
       "      <td>...</td>\n",
       "      <td>0.0</td>\n",
       "      <td>0.0</td>\n",
       "      <td>0.0</td>\n",
       "      <td>0.0</td>\n",
       "      <td>0.0</td>\n",
       "      <td>0.0</td>\n",
       "      <td>0.0</td>\n",
       "      <td>735095.000000</td>\n",
       "      <td>735095.000000</td>\n",
       "      <td>1.000000</td>\n",
       "    </tr>\n",
       "    <tr>\n",
       "      <th>25%</th>\n",
       "      <td>0.000000</td>\n",
       "      <td>0.000000</td>\n",
       "      <td>0.000000</td>\n",
       "      <td>0.000000</td>\n",
       "      <td>0.000000</td>\n",
       "      <td>0.000000</td>\n",
       "      <td>0.000000</td>\n",
       "      <td>0.0</td>\n",
       "      <td>0.0</td>\n",
       "      <td>0.0</td>\n",
       "      <td>...</td>\n",
       "      <td>0.0</td>\n",
       "      <td>0.0</td>\n",
       "      <td>0.0</td>\n",
       "      <td>0.0</td>\n",
       "      <td>0.0</td>\n",
       "      <td>0.0</td>\n",
       "      <td>0.0</td>\n",
       "      <td>735124.000000</td>\n",
       "      <td>735178.000000</td>\n",
       "      <td>1.000000</td>\n",
       "    </tr>\n",
       "    <tr>\n",
       "      <th>50%</th>\n",
       "      <td>0.000000</td>\n",
       "      <td>0.000000</td>\n",
       "      <td>0.000000</td>\n",
       "      <td>0.000000</td>\n",
       "      <td>0.000000</td>\n",
       "      <td>0.000000</td>\n",
       "      <td>0.000000</td>\n",
       "      <td>0.0</td>\n",
       "      <td>0.0</td>\n",
       "      <td>0.0</td>\n",
       "      <td>...</td>\n",
       "      <td>0.0</td>\n",
       "      <td>0.0</td>\n",
       "      <td>0.0</td>\n",
       "      <td>0.0</td>\n",
       "      <td>0.0</td>\n",
       "      <td>0.0</td>\n",
       "      <td>0.0</td>\n",
       "      <td>735164.000000</td>\n",
       "      <td>735290.000000</td>\n",
       "      <td>2.000000</td>\n",
       "    </tr>\n",
       "    <tr>\n",
       "      <th>75%</th>\n",
       "      <td>0.000000</td>\n",
       "      <td>0.000000</td>\n",
       "      <td>0.000000</td>\n",
       "      <td>0.000000</td>\n",
       "      <td>0.000000</td>\n",
       "      <td>0.000000</td>\n",
       "      <td>0.000000</td>\n",
       "      <td>0.0</td>\n",
       "      <td>0.0</td>\n",
       "      <td>0.0</td>\n",
       "      <td>...</td>\n",
       "      <td>0.0</td>\n",
       "      <td>0.0</td>\n",
       "      <td>0.0</td>\n",
       "      <td>0.0</td>\n",
       "      <td>0.0</td>\n",
       "      <td>0.0</td>\n",
       "      <td>0.0</td>\n",
       "      <td>735280.000000</td>\n",
       "      <td>735707.000000</td>\n",
       "      <td>7.000000</td>\n",
       "    </tr>\n",
       "    <tr>\n",
       "      <th>max</th>\n",
       "      <td>1.000000</td>\n",
       "      <td>1.000000</td>\n",
       "      <td>6.000000</td>\n",
       "      <td>3.000000</td>\n",
       "      <td>3.000000</td>\n",
       "      <td>3.000000</td>\n",
       "      <td>2.000000</td>\n",
       "      <td>0.0</td>\n",
       "      <td>0.0</td>\n",
       "      <td>0.0</td>\n",
       "      <td>...</td>\n",
       "      <td>0.0</td>\n",
       "      <td>0.0</td>\n",
       "      <td>0.0</td>\n",
       "      <td>0.0</td>\n",
       "      <td>0.0</td>\n",
       "      <td>0.0</td>\n",
       "      <td>0.0</td>\n",
       "      <td>736378.000000</td>\n",
       "      <td>736507.000000</td>\n",
       "      <td>231.000000</td>\n",
       "    </tr>\n",
       "  </tbody>\n",
       "</table>\n",
       "<p>8 rows × 1429 columns</p>\n",
       "</div>"
      ],
      "text/plain": [
       "Date       735095      735096      735097      735098      735099      735100  \\\n",
       "count  261.000000  261.000000  261.000000  261.000000  261.000000  261.000000   \n",
       "mean     0.007663    0.003831    0.091954    0.034483    0.030651    0.019157   \n",
       "std      0.087369    0.061898    0.546996    0.253359    0.261319    0.222781   \n",
       "min      0.000000    0.000000    0.000000    0.000000    0.000000    0.000000   \n",
       "25%      0.000000    0.000000    0.000000    0.000000    0.000000    0.000000   \n",
       "50%      0.000000    0.000000    0.000000    0.000000    0.000000    0.000000   \n",
       "75%      0.000000    0.000000    0.000000    0.000000    0.000000    0.000000   \n",
       "max      1.000000    1.000000    6.000000    3.000000    3.000000    3.000000   \n",
       "\n",
       "Date       735101  735102  735103  735104       ...        736514  736515  \\\n",
       "count  261.000000   261.0   261.0   261.0       ...         261.0   261.0   \n",
       "mean     0.022989     0.0     0.0     0.0       ...           0.0     0.0   \n",
       "std      0.213596     0.0     0.0     0.0       ...           0.0     0.0   \n",
       "min      0.000000     0.0     0.0     0.0       ...           0.0     0.0   \n",
       "25%      0.000000     0.0     0.0     0.0       ...           0.0     0.0   \n",
       "50%      0.000000     0.0     0.0     0.0       ...           0.0     0.0   \n",
       "75%      0.000000     0.0     0.0     0.0       ...           0.0     0.0   \n",
       "max      2.000000     0.0     0.0     0.0       ...           0.0     0.0   \n",
       "\n",
       "Date   736516  736517  736518  736519  736520  Earliest Date    Latest Date  \\\n",
       "count   261.0   261.0   261.0   261.0   261.0     261.000000     261.000000   \n",
       "mean      0.0     0.0     0.0     0.0     0.0  735275.938697  735461.072797   \n",
       "std       0.0     0.0     0.0     0.0     0.0     274.335119     380.839536   \n",
       "min       0.0     0.0     0.0     0.0     0.0  735095.000000  735095.000000   \n",
       "25%       0.0     0.0     0.0     0.0     0.0  735124.000000  735178.000000   \n",
       "50%       0.0     0.0     0.0     0.0     0.0  735164.000000  735290.000000   \n",
       "75%       0.0     0.0     0.0     0.0     0.0  735280.000000  735707.000000   \n",
       "max       0.0     0.0     0.0     0.0     0.0  736378.000000  736507.000000   \n",
       "\n",
       "Date   Total Messages  \n",
       "count      261.000000  \n",
       "mean         8.015326  \n",
       "std         18.733961  \n",
       "min          1.000000  \n",
       "25%          1.000000  \n",
       "50%          2.000000  \n",
       "75%          7.000000  \n",
       "max        231.000000  \n",
       "\n",
       "[8 rows x 1429 columns]"
      ]
     },
     "execution_count": 8,
     "metadata": {},
     "output_type": "execute_result"
    }
   ],
   "source": [
    "def earliest(s):\n",
    "    just_dates = s.drop(['Earliest Date', 'Latest Date', 'Total Messages', 'Tenure'], errors='ignore')\n",
    "    \n",
    "    earliest = None\n",
    "\n",
    "    if 'Earliest Date' in s.index:\n",
    "        if pd.notna(s['Earliest Date']):\n",
    "            earliest = s['Earliest Date']\n",
    "    \n",
    "    for i, value in just_dates.iteritems():\n",
    "        if value > 0:\n",
    "            if earliest == None or i < earliest:\n",
    "                earliest = i\n",
    "    \n",
    "    return earliest\n",
    "\n",
    "def latest(s):\n",
    "    just_dates = s.drop(['Earliest Date', 'Latest Date', 'Total Messages', 'Tenure'], errors='ignore')\n",
    "    \n",
    "    latest = None\n",
    "\n",
    "    if 'Latest Date' in s.index:\n",
    "        if pd.notna(s['Latest Date']):\n",
    "            latest = s['Latest Date']\n",
    "    \n",
    "    for i, value in just_dates.iteritems():\n",
    "        if value > 0:\n",
    "            if latest == None or i > latest:\n",
    "                latest = i\n",
    "    \n",
    "    return latest\n",
    "\n",
    "def total_messages(s): # this is a cumulative sum\n",
    "    just_dates = s.drop(['Earliest Date', 'Latest Date', 'Tenure'], errors='ignore')\n",
    "    return just_dates.sum()\n",
    "\n",
    "person_activity['Earliest Date'] = person_activity.apply(earliest, axis='columns')\n",
    "person_activity['Latest Date'] = person_activity.apply(latest, axis='columns')\n",
    "person_activity['Total Messages'] = person_activity.apply(total_messages, axis='columns')\n",
    "person_activity.describe()"
   ]
  },
  {
   "cell_type": "code",
   "execution_count": 9,
   "metadata": {
    "collapsed": false
   },
   "outputs": [
    {
     "name": "stderr",
     "output_type": "stream",
     "text": [
      "/usr/local/lib/python2.7/site-packages/matplotlib/figure.py:1744: UserWarning: This figure includes Axes that are not compatible with tight_layout, so its results might be incorrect.\n",
      "  warnings.warn(\"This figure includes Axes that are not \"\n"
     ]
    },
    {
     "data": {
      "image/png": "[encoded data removed]",
      "text/plain": [
       "<matplotlib.figure.Figure at 0x114021710>"
      ]
     },
     "metadata": {},
     "output_type": "display_data"
    }
   ],
   "source": [
    "fig, axs = plt.subplots(1, 2, sharey=True, tight_layout=True)\n",
    "\n",
    "axs[0].hist(person_activity['Earliest Date'])\n",
    "axs[1].hist(person_activity['Latest Date'])\n",
    "axs[0].xaxis_date()\n",
    "axs[1].xaxis_date()"
   ]
  },
  {
   "cell_type": "markdown",
   "metadata": {},
   "source": [
    "On the left, how many people sent their first message; on the right, how many people on that date sent their last message to the list. This is pretty spiky for both, people started early, and many of them stopped after that initial burst of activity."
   ]
  },
  {
   "cell_type": "code",
   "execution_count": 10,
   "metadata": {
    "collapsed": false
   },
   "outputs": [
    {
     "data": {
      "text/plain": [
       "5980"
      ]
     },
     "execution_count": 10,
     "metadata": {},
     "output_type": "execute_result"
    }
   ],
   "source": [
    "gc.collect()"
   ]
  },
  {
   "cell_type": "markdown",
   "metadata": {},
   "source": [
    "## When do people first join any IETF list?"
   ]
  },
  {
   "cell_type": "markdown",
   "metadata": {},
   "source": [
    "We want to combine these activity frames where the values are the number of messages sent on that date."
   ]
  },
  {
   "cell_type": "code",
   "execution_count": 11,
   "metadata": {
    "collapsed": false
   },
   "outputs": [],
   "source": [
    "f = open('ietf_lists_normalized.txt', 'r')\n",
    "ietf_lists = list(set(f.readlines())) # remove duplicates, which is a bug in list maintenance"
   ]
  },
  {
   "cell_type": "code",
   "execution_count": 12,
   "metadata": {
    "collapsed": false
   },
   "outputs": [],
   "source": [
    "running_activity = person_activity[['Earliest Date', 'Latest Date', 'Total Messages']]\n",
    "\n",
    "# todo export the combined file at regular intervals?"
   ]
  },
  {
   "cell_type": "code",
   "execution_count": 18,
   "metadata": {
    "collapsed": false
   },
   "outputs": [],
   "source": [
    "running_activity.to_csv('participation-length.csv', encoding='utf-8')"
   ]
  },
  {
   "cell_type": "code",
   "execution_count": null,
   "metadata": {
    "collapsed": false
   },
   "outputs": [],
   "source": [
    "for i_list in ietf_lists[1:4]: # can run this a few at a time, or in bulk if working smoothly\n",
    "    logging.info('Opening %s', i_list)\n",
    "    try:\n",
    "        i_list_archive = mailman.open_list_archives(i_list, ietf_archives_dir)\n",
    "        i_activity = Archive(i_list_archive).get_activity().T\n",
    "        running_activity = pd.merge(running_activity, i_activity, how='outer', left_index=True, right_index=True) \n",
    "        running_activity['Earliest Date'] = running_activity.apply(earliest, axis='columns')\n",
    "        running_activity['Latest Date'] = running_activity.apply(latest, axis='columns')\n",
    "        running_activity['Total Messages'] = running_activity.apply(total_messages, axis='columns')\n",
    "    except mailman.MissingDataException:\n",
    "        logging.error('Looks like an empty list archive', exc_info=True)\n",
    "    running_activity = running_activity[['Earliest Date', 'Latest Date', 'Total Messages']]\n",
    "    gc.collect()"
   ]
  },
  {
   "cell_type": "code",
   "execution_count": 55,
   "metadata": {
    "collapsed": false
   },
   "outputs": [
    {
     "data": {
      "image/png": "[encoded data removed]",
      "text/plain": [
       "<matplotlib.figure.Figure at 0x119cfce50>"
      ]
     },
     "metadata": {},
     "output_type": "display_data"
    }
   ],
   "source": [
    "fig = plt.figure(figsize=(12.5, 7.5))\n",
    "running_activity['Earliest Date'].hist()\n",
    "fig.axes[0].xaxis_date()"
   ]
  },
  {
   "cell_type": "markdown",
   "metadata": {},
   "source": [
    "We have a peak in mid-2000s on new participation (that might also just be where the peak of this corpus of messages is present)."
   ]
  },
  {
   "cell_type": "markdown",
   "metadata": {},
   "source": [
    "We can calculate a \"tenure\" concept, which is the number of days between your first message to an IETF list and your latest message."
   ]
  },
  {
   "cell_type": "code",
   "execution_count": null,
   "metadata": {
    "collapsed": false
   },
   "outputs": [],
   "source": [
    "running_activity['Tenure'] = running_activity['Latest Date'] - running_activity['Earliest Date']"
   ]
  },
  {
   "cell_type": "code",
   "execution_count": 30,
   "metadata": {
    "collapsed": false
   },
   "outputs": [
    {
     "data": {
      "text/html": [
       "<div>\n",
       "<style scoped>\n",
       "    .dataframe tbody tr th:only-of-type {\n",
       "        vertical-align: middle;\n",
       "    }\n",
       "\n",
       "    .dataframe tbody tr th {\n",
       "        vertical-align: top;\n",
       "    }\n",
       "\n",
       "    .dataframe thead th {\n",
       "        text-align: right;\n",
       "    }\n",
       "</style>\n",
       "<table border=\"1\" class=\"dataframe\">\n",
       "  <thead>\n",
       "    <tr style=\"text-align: right;\">\n",
       "      <th>Date</th>\n",
       "      <th>Earliest Date</th>\n",
       "      <th>Latest Date</th>\n",
       "      <th>Total Messages</th>\n",
       "      <th>Tenure</th>\n",
       "    </tr>\n",
       "  </thead>\n",
       "  <tbody>\n",
       "    <tr>\n",
       "      <th>count</th>\n",
       "      <td>12778.000000</td>\n",
       "      <td>12778.000000</td>\n",
       "      <td>12784.000000</td>\n",
       "      <td>12778.000000</td>\n",
       "    </tr>\n",
       "    <tr>\n",
       "      <th>mean</th>\n",
       "      <td>732816.413602</td>\n",
       "      <td>732996.813977</td>\n",
       "      <td>9.702519</td>\n",
       "      <td>180.400376</td>\n",
       "    </tr>\n",
       "    <tr>\n",
       "      <th>std</th>\n",
       "      <td>1452.368451</td>\n",
       "      <td>1546.950284</td>\n",
       "      <td>55.877373</td>\n",
       "      <td>558.198874</td>\n",
       "    </tr>\n",
       "    <tr>\n",
       "      <th>min</th>\n",
       "      <td>719163.000000</td>\n",
       "      <td>722914.000000</td>\n",
       "      <td>0.000000</td>\n",
       "      <td>0.000000</td>\n",
       "    </tr>\n",
       "    <tr>\n",
       "      <th>25%</th>\n",
       "      <td>732170.250000</td>\n",
       "      <td>732324.000000</td>\n",
       "      <td>1.000000</td>\n",
       "      <td>0.000000</td>\n",
       "    </tr>\n",
       "    <tr>\n",
       "      <th>50%</th>\n",
       "      <td>732868.000000</td>\n",
       "      <td>732914.000000</td>\n",
       "      <td>1.000000</td>\n",
       "      <td>0.000000</td>\n",
       "    </tr>\n",
       "    <tr>\n",
       "      <th>75%</th>\n",
       "      <td>733239.000000</td>\n",
       "      <td>733573.750000</td>\n",
       "      <td>3.000000</td>\n",
       "      <td>20.000000</td>\n",
       "    </tr>\n",
       "    <tr>\n",
       "      <th>max</th>\n",
       "      <td>736623.000000</td>\n",
       "      <td>736625.000000</td>\n",
       "      <td>2232.000000</td>\n",
       "      <td>12761.000000</td>\n",
       "    </tr>\n",
       "  </tbody>\n",
       "</table>\n",
       "</div>"
      ],
      "text/plain": [
       "Date   Earliest Date    Latest Date  Total Messages        Tenure\n",
       "count   12778.000000   12778.000000    12784.000000  12778.000000\n",
       "mean   732816.413602  732996.813977        9.702519    180.400376\n",
       "std      1452.368451    1546.950284       55.877373    558.198874\n",
       "min    719163.000000  722914.000000        0.000000      0.000000\n",
       "25%    732170.250000  732324.000000        1.000000      0.000000\n",
       "50%    732868.000000  732914.000000        1.000000      0.000000\n",
       "75%    733239.000000  733573.750000        3.000000     20.000000\n",
       "max    736623.000000  736625.000000     2232.000000  12761.000000"
      ]
     },
     "execution_count": 30,
     "metadata": {},
     "output_type": "execute_result"
    }
   ],
   "source": [
    "running_activity.describe()"
   ]
  },
  {
   "cell_type": "markdown",
   "metadata": {},
   "source": [
    "Let's graph data for people for whom we have at least a few messages."
   ]
  },
  {
   "cell_type": "code",
   "execution_count": 42,
   "metadata": {
    "collapsed": false
   },
   "outputs": [],
   "source": [
    "working_data = running_activity[running_activity['Total Messages'] > 5]"
   ]
  },
  {
   "cell_type": "code",
   "execution_count": 51,
   "metadata": {
    "collapsed": false
   },
   "outputs": [
    {
     "data": {
      "text/plain": [
       "<matplotlib.axes._subplots.AxesSubplot at 0x113f7e890>"
      ]
     },
     "execution_count": 51,
     "metadata": {},
     "output_type": "execute_result"
    },
    {
     "data": {
      "image/png": "[encoded data removed]",
      "text/plain": [
       "<matplotlib.figure.Figure at 0x119076fd0>"
      ]
     },
     "metadata": {},
     "output_type": "display_data"
    }
   ],
   "source": [
    "working_data['Tenure'].plot(kind ='hist',logy=True)"
   ]
  },
  {
   "cell_type": "markdown",
   "metadata": {},
   "source": [
    "The distribution of tenure seems to be exactly a power law. (The above graph is log scale in the y dimension.) Most people have short tenures, and length of tenure decays over time."
   ]
  },
  {
   "cell_type": "code",
   "execution_count": 48,
   "metadata": {
    "collapsed": false
   },
   "outputs": [
    {
     "data": {
      "image/png": "[encoded data removed]",
      "text/plain": [
       "<matplotlib.figure.Figure at 0x1144143d0>"
      ]
     },
     "metadata": {},
     "output_type": "display_data"
    }
   ],
   "source": [
    "fig = sns.jointplot(kind='kde', data = working_data, x='Earliest Date', y='Tenure', xlim=(725000,740000), ylim=(0, 5000))"
   ]
  },
  {
   "cell_type": "code",
   "execution_count": null,
   "metadata": {
    "collapsed": true
   },
   "outputs": [],
   "source": []
  }
 ],
 "metadata": {
  "kernelspec": {
   "display_name": "Python 2",
   "language": "python",
   "name": "python2"
  },
  "language_info": {
   "codemirror_mode": {
    "name": "ipython",
    "version": 2
   },
   "file_extension": ".py",
   "mimetype": "text/x-python",
   "name": "python",
   "nbconvert_exporter": "python",
   "pygments_lexer": "ipython2",
   "version": "2.7.9"
  },
  "notify_time": "10"
 },
 "nbformat": 4,
 "nbformat_minor": 0
}

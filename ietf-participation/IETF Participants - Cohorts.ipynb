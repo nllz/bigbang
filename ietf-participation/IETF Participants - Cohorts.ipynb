{
 "cells": [
  {
   "cell_type": "markdown",
   "metadata": {},
   "source": [
    "We want to analyze participants and patterns of participation across IETF groups. \n",
    "\n",
    "Specifically, what are the lengths of participation? Are there new cohorts of participation over time? What is attrition like in IETF mailing list participation?"
   ]
  },
  {
   "cell_type": "markdown",
   "metadata": {},
   "source": [
    "## Setup and gather data"
   ]
  },
  {
   "cell_type": "markdown",
   "metadata": {},
   "source": [
    "Start by importing the necessary libraries."
   ]
  },
  {
   "cell_type": "code",
   "execution_count": 1,
   "metadata": {
    "collapsed": true
   },
   "outputs": [],
   "source": [
    "%matplotlib inline\n",
    "import bigbang.mailman as mailman\n",
    "import bigbang.graph as graph\n",
    "import bigbang.process as process\n",
    "from bigbang.parse import get_date\n",
    "from bigbang.archive import Archive\n",
    "import bigbang.utils as utils\n",
    "import pandas as pd\n",
    "import datetime\n",
    "import matplotlib.pyplot as plt\n",
    "import numpy as np\n",
    "import math\n",
    "import pytz\n",
    "import pickle\n",
    "import os\n",
    "import csv\n",
    "import re\n",
    "import scipy\n",
    "import scipy.cluster.hierarchy as sch\n",
    "import email"
   ]
  },
  {
   "cell_type": "code",
   "execution_count": 2,
   "metadata": {
    "collapsed": true
   },
   "outputs": [],
   "source": [
    "import logging\n",
    "reload(logging)\n",
    "logging.basicConfig(format='%(asctime)s %(levelname)s:%(message)s', level=logging.INFO, datefmt='%I:%M:%S')"
   ]
  },
  {
   "cell_type": "code",
   "execution_count": 3,
   "metadata": {
    "collapsed": false
   },
   "outputs": [],
   "source": [
    "#pd.options.display.mpl_style = 'default' # pandas has a set of preferred graph formatting options\n",
    "plt.rcParams['axes.facecolor'] = 'white'\n",
    "import seaborn as sns\n",
    "sns.set()\n",
    "sns.set_style(\"white\")"
   ]
  },
  {
   "cell_type": "markdown",
   "metadata": {},
   "source": [
    "Let's start with a single IETF mailing list. (Later, we can expand to all current groups, or all IETF lists ever.)"
   ]
  },
  {
   "cell_type": "code",
   "execution_count": 4,
   "metadata": {
    "collapsed": false
   },
   "outputs": [
    {
     "name": "stdout",
     "output_type": "stream",
     "text": [
      "43\n",
      "Opening 43 archive files\n"
     ]
    }
   ],
   "source": [
    "list_url = 'https://www.ietf.org/mail-archive/text/perpass/' # perpass happens to be one that I subscribe to\n",
    "\n",
    "ietf_archives_dir = '../../ietf-archives' # relative location of the ietf-archives directory/repo\n",
    "\n",
    "list_archive = mailman.open_list_archives(list_url, ietf_archives_dir)\n",
    "activity = None\n",
    "activity = Archive(list_archive).get_activity()"
   ]
  },
  {
   "cell_type": "markdown",
   "metadata": {},
   "source": [
    "## When do people first send to the mailing list?"
   ]
  },
  {
   "cell_type": "markdown",
   "metadata": {},
   "source": [
    "For this mailing list, we'll create a histogram of people in the list and when they sent their first message to the list."
   ]
  },
  {
   "cell_type": "code",
   "execution_count": 5,
   "metadata": {
    "collapsed": false
   },
   "outputs": [
    {
     "data": {
      "image/png": "[encoded data removed]",
      "text/plain": [
       "<matplotlib.figure.Figure at 0x1075ac590>"
      ]
     },
     "metadata": {},
     "output_type": "display_data"
    }
   ],
   "source": [
    "fig = plt.figure(figsize=(12.5, 7.5))\n",
    "\n",
    "(activity > 0).idxmax().hist()\n",
    "\n",
    "fig.axes[0].xaxis_date()"
   ]
  },
  {
   "cell_type": "markdown",
   "metadata": {},
   "source": [
    "For this mailing list, it appears that most people joined the list near the beginning of the list, and few new people join over time."
   ]
  },
  {
   "cell_type": "markdown",
   "metadata": {},
   "source": [
    "## When do people first join any IETF list?"
   ]
  },
  {
   "cell_type": "code",
   "execution_count": 6,
   "metadata": {
    "collapsed": false
   },
   "outputs": [],
   "source": [
    "f = open('ietf_lists_normalized.txt', 'r')\n",
    "ietf_lists = list(set(f.readlines())) # remove duplicates, which is a bug in list maintenance"
   ]
  },
  {
   "cell_type": "code",
   "execution_count": 7,
   "metadata": {
    "collapsed": false
   },
   "outputs": [
    {
     "data": {
      "text/html": [
       "<div>\n",
       "<style scoped>\n",
       "    .dataframe tbody tr th:only-of-type {\n",
       "        vertical-align: middle;\n",
       "    }\n",
       "\n",
       "    .dataframe tbody tr th {\n",
       "        vertical-align: top;\n",
       "    }\n",
       "\n",
       "    .dataframe thead th {\n",
       "        text-align: right;\n",
       "    }\n",
       "</style>\n",
       "<table border=\"1\" class=\"dataframe\">\n",
       "  <thead>\n",
       "    <tr style=\"text-align: right;\">\n",
       "      <th>Date</th>\n",
       "      <th>735095</th>\n",
       "      <th>735096</th>\n",
       "      <th>735097</th>\n",
       "      <th>735098</th>\n",
       "      <th>735099</th>\n",
       "      <th>735100</th>\n",
       "      <th>735101</th>\n",
       "      <th>735102</th>\n",
       "      <th>735103</th>\n",
       "      <th>735104</th>\n",
       "      <th>...</th>\n",
       "      <th>736511</th>\n",
       "      <th>736512</th>\n",
       "      <th>736513</th>\n",
       "      <th>736514</th>\n",
       "      <th>736515</th>\n",
       "      <th>736516</th>\n",
       "      <th>736517</th>\n",
       "      <th>736518</th>\n",
       "      <th>736519</th>\n",
       "      <th>736520</th>\n",
       "    </tr>\n",
       "    <tr>\n",
       "      <th>From</th>\n",
       "      <th></th>\n",
       "      <th></th>\n",
       "      <th></th>\n",
       "      <th></th>\n",
       "      <th></th>\n",
       "      <th></th>\n",
       "      <th></th>\n",
       "      <th></th>\n",
       "      <th></th>\n",
       "      <th></th>\n",
       "      <th></th>\n",
       "      <th></th>\n",
       "      <th></th>\n",
       "      <th></th>\n",
       "      <th></th>\n",
       "      <th></th>\n",
       "      <th></th>\n",
       "      <th></th>\n",
       "      <th></th>\n",
       "      <th></th>\n",
       "      <th></th>\n",
       "    </tr>\n",
       "  </thead>\n",
       "  <tbody>\n",
       "    <tr>\n",
       "      <th>\"Adrian Farrel\" &lt;adrian@olddog.co.uk&gt;</th>\n",
       "      <td>0.0</td>\n",
       "      <td>0.0</td>\n",
       "      <td>0.0</td>\n",
       "      <td>0.0</td>\n",
       "      <td>0.0</td>\n",
       "      <td>0.0</td>\n",
       "      <td>0.0</td>\n",
       "      <td>0.0</td>\n",
       "      <td>0.0</td>\n",
       "      <td>0.0</td>\n",
       "      <td>...</td>\n",
       "      <td>0.0</td>\n",
       "      <td>0.0</td>\n",
       "      <td>0.0</td>\n",
       "      <td>0.0</td>\n",
       "      <td>0.0</td>\n",
       "      <td>0.0</td>\n",
       "      <td>0.0</td>\n",
       "      <td>0.0</td>\n",
       "      <td>0.0</td>\n",
       "      <td>0.0</td>\n",
       "    </tr>\n",
       "  </tbody>\n",
       "</table>\n",
       "<p>1 rows × 1426 columns</p>\n",
       "</div>"
      ],
      "text/plain": [
       "Date                                   735095  735096  735097  735098  735099  \\\n",
       "From                                                                            \n",
       "\"Adrian Farrel\" <adrian@olddog.co.uk>     0.0     0.0     0.0     0.0     0.0   \n",
       "\n",
       "Date                                   735100  735101  735102  735103  735104  \\\n",
       "From                                                                            \n",
       "\"Adrian Farrel\" <adrian@olddog.co.uk>     0.0     0.0     0.0     0.0     0.0   \n",
       "\n",
       "Date                                    ...    736511  736512  736513  736514  \\\n",
       "From                                    ...                                     \n",
       "\"Adrian Farrel\" <adrian@olddog.co.uk>   ...       0.0     0.0     0.0     0.0   \n",
       "\n",
       "Date                                   736515  736516  736517  736518  736519  \\\n",
       "From                                                                            \n",
       "\"Adrian Farrel\" <adrian@olddog.co.uk>     0.0     0.0     0.0     0.0     0.0   \n",
       "\n",
       "Date                                   736520  \n",
       "From                                           \n",
       "\"Adrian Farrel\" <adrian@olddog.co.uk>     0.0  \n",
       "\n",
       "[1 rows x 1426 columns]"
      ]
     },
     "execution_count": 7,
     "metadata": {},
     "output_type": "execute_result"
    }
   ],
   "source": [
    "activity.T[:1]"
   ]
  },
  {
   "cell_type": "markdown",
   "metadata": {},
   "source": [
    "We want to combine these activity frames where the values are the number of messages sent on that date."
   ]
  },
  {
   "cell_type": "code",
   "execution_count": null,
   "metadata": {
    "collapsed": false
   },
   "outputs": [
    {
     "name": "stdout",
     "output_type": "stream",
     "text": [
      "144\n",
      "Opening 144 archive files\n",
      "unknown-8bit unknown encoding in message <0FVU00DHMFEE3B@mta5.rcsntx.swbell.net>, using UTF-8 instead\n",
      "Date parsing error on: \n",
      "Wed, 30 Jan 02 03:04:51 GMT Standard Time\n",
      "\"us-ascifrom enum-bounces@ietf.org tue nov 07 19:31:30 2006 unknown encoding in message <00f201c702cd$26a7a260$68418182@cis.neustar.com>, using UTF-8 instead\n",
      "Date parsing error on: \n",
      "Fri, 32 Jan 2008 19:05:18 +0900\n",
      "Date parsing error on: \n",
      "������, 01 ���� 2002 20:15:33 +0800\n",
      "Date parsing error on: \n",
      "emonPortOptions=Port=smtp,Addr=127.0.0.1, Name=MTA\n",
      "default_charset unknown encoding in message <200112050320.WAA23582@ietf.org>, using UTF-8 instead\n",
      "default_charset unknown encoding in message <200112050322.WAA23640@ietf.org>, using UTF-8 instead\n",
      "Date parsing error on: \n",
      "Sat, 02 Feb 02 01:01:05 GMT Standard Time\n",
      "127\n",
      "Opening 127 archive files\n",
      "iso-4461-5 unknown encoding in message <E1DHIEC-0003gj-0d@mx2.foretec.com>, using UTF-8 instead\n",
      "iso-4461-5 unknown encoding in message <E1DHIEC-0003gj-0d@mx2.foretec.com>, using UTF-8 instead\n",
      "Date parsing error on: \n",
      "Fri, 32 Jan 2008 09:36:19 +0900\n",
      "Date parsing error on: \n",
      "Fri, 32 Jan 2008 06:39:29 +0100\n",
      "iso-8371-7 unknown encoding in message <200503211439.JAA10529@ietf.org>, using UTF-8 instead\n",
      "Date parsing error on: \n",
      "Fri, 32 Jan 2008 19:28:10 +0900\n",
      "Date parsing error on: \n",
      "Fri, 32 Jan 2008 13:58:32 +0100\n",
      "Date parsing error on: \n",
      "������, 01 һ�� 2000 00:22:30 +0100\n",
      "Date parsing error on: \n",
      "������, 01 һ�� 2000 00:22:52 +0100\n",
      "81\n",
      "Opening 81 archive files\n",
      "Date parsing error on: \n",
      "Tue, 0 Jan 2008 18:00:05 +0100\n",
      "Date parsing error on: \n",
      "Tue, 0 Jan 2008 20:30:55 -0600\n",
      "Date parsing error on: \n",
      "None\n",
      "Date parsing error on: \n",
      "Tue, 0 Jan 2008 05:42:29 +0100\n",
      "x-unknown unknown encoding in message <Pine.LNX.4.44.0402262058150.6349-100000@mobqos.ee.unsw.edu.au>, using UTF-8 instead\n",
      "x-unknown unknown encoding in message <Pine.LNX.4.44.0402262058150.6349-100000@mobqos.ee.unsw.edu.au>, using UTF-8 instead\n",
      "x-unknown unknown encoding in message <Pine.GSO.4.63.0901190952430.17388@irp-view13.cisco.com>, using UTF-8 instead\n",
      "x-unknown unknown encoding in message <Pine.GSO.4.63.0901191325550.8306@irp-view13.cisco.com>, using UTF-8 instead\n",
      "Date parsing error on: \n",
      "Tue, 31 Nov 2006 10:03:25 -0060\n"
     ]
    },
    {
     "name": "stderr",
     "output_type": "stream",
     "text": [
      "02:08:09 ERROR:Error while removing duplicate messages, maybe timezone issues?\n",
      "Traceback (most recent call last):\n",
      "  File \"/Users/nick/code/mailing-list-analysis/bigbang/bigbang/archive.py\", line 67, in __init__\n",
      "    self.data.drop_duplicates(inplace=True)\n",
      "  File \"/usr/local/lib/python2.7/site-packages/pandas/core/frame.py\", line 3535, in drop_duplicates\n",
      "    duplicated = self.duplicated(subset, keep=keep)\n",
      "  File \"/usr/local/lib/python2.7/site-packages/pandas/core/frame.py\", line 3582, in duplicated\n",
      "    labels, shape = map(list, zip(*map(f, vals)))\n",
      "  File \"/usr/local/lib/python2.7/site-packages/pandas/core/frame.py\", line 3570, in f\n",
      "    vals, size_hint=min(len(self), _SIZE_HINT_LIMIT))\n",
      "  File \"/usr/local/lib/python2.7/site-packages/pandas/core/algorithms.py\", line 471, in factorize\n",
      "    labels = table.get_labels(values, uniques, 0, na_sentinel, check_nulls)\n",
      "  File \"pandas/_libs/hashtable_class_helper.pxi\", line 1367, in pandas._libs.hashtable.PyObjectHashTable.get_labels\n",
      "ValueError: tzinfo.utcoffset() returned 1440; must be in -1439 .. 1439\n",
      "02:08:18 ERROR:Error timezone issues while detecting bad rows\n",
      "Traceback (most recent call last):\n",
      "  File \"/Users/nick/code/mailing-list-analysis/bigbang/bigbang/archive.py\", line 93, in __init__\n",
      "    future_comparison = row['Date'] < datetime.datetime.now(pytz.utc)\n",
      "ValueError: tzinfo.utcoffset() returned 1440; must be in -1439 .. 1439\n",
      "Traceback (most recent call last):\n",
      "  File \"/usr/local/Cellar/python/2.7.9/Frameworks/Python.framework/Versions/2.7/lib/python2.7/logging/__init__.py\", line 859, in emit\n",
      "    msg = self.format(record)\n",
      "  File \"/usr/local/Cellar/python/2.7.9/Frameworks/Python.framework/Versions/2.7/lib/python2.7/logging/__init__.py\", line 732, in format\n",
      "    return fmt.format(record)\n",
      "  File \"/usr/local/Cellar/python/2.7.9/Frameworks/Python.framework/Versions/2.7/lib/python2.7/logging/__init__.py\", line 471, in format\n",
      "    record.message = record.getMessage()\n",
      "  File \"/usr/local/Cellar/python/2.7.9/Frameworks/Python.framework/Versions/2.7/lib/python2.7/logging/__init__.py\", line 335, in getMessage\n",
      "    msg = msg % self.args\n",
      "ValueError: tzinfo.utcoffset() returned 1440; must be in -1439 .. 1439\n",
      "Logged from file archive.py, line 97\n",
      "02:08:18 ERROR:Error timezone issues while detecting bad rows\n",
      "Traceback (most recent call last):\n",
      "  File \"/Users/nick/code/mailing-list-analysis/bigbang/bigbang/archive.py\", line 93, in __init__\n",
      "    future_comparison = row['Date'] < datetime.datetime.now(pytz.utc)\n",
      "ValueError: tzinfo.utcoffset() returned 1440; must be in -1439 .. 1439\n",
      "Traceback (most recent call last):\n",
      "  File \"/usr/local/Cellar/python/2.7.9/Frameworks/Python.framework/Versions/2.7/lib/python2.7/logging/__init__.py\", line 859, in emit\n",
      "    msg = self.format(record)\n",
      "  File \"/usr/local/Cellar/python/2.7.9/Frameworks/Python.framework/Versions/2.7/lib/python2.7/logging/__init__.py\", line 732, in format\n",
      "    return fmt.format(record)\n",
      "  File \"/usr/local/Cellar/python/2.7.9/Frameworks/Python.framework/Versions/2.7/lib/python2.7/logging/__init__.py\", line 471, in format\n",
      "    record.message = record.getMessage()\n",
      "  File \"/usr/local/Cellar/python/2.7.9/Frameworks/Python.framework/Versions/2.7/lib/python2.7/logging/__init__.py\", line 335, in getMessage\n",
      "    msg = msg % self.args\n",
      "ValueError: tzinfo.utcoffset() returned 1440; must be in -1439 .. 1439\n",
      "Logged from file archive.py, line 97\n",
      "02:08:20 ERROR:Error timezone issues while detecting bad rows\n",
      "Traceback (most recent call last):\n",
      "  File \"/Users/nick/code/mailing-list-analysis/bigbang/bigbang/archive.py\", line 93, in __init__\n",
      "    future_comparison = row['Date'] < datetime.datetime.now(pytz.utc)\n",
      "ValueError: tzinfo.utcoffset() returned 1440; must be in -1439 .. 1439\n",
      "Traceback (most recent call last):\n",
      "  File \"/usr/local/Cellar/python/2.7.9/Frameworks/Python.framework/Versions/2.7/lib/python2.7/logging/__init__.py\", line 859, in emit\n",
      "    msg = self.format(record)\n",
      "  File \"/usr/local/Cellar/python/2.7.9/Frameworks/Python.framework/Versions/2.7/lib/python2.7/logging/__init__.py\", line 732, in format\n",
      "    return fmt.format(record)\n",
      "  File \"/usr/local/Cellar/python/2.7.9/Frameworks/Python.framework/Versions/2.7/lib/python2.7/logging/__init__.py\", line 471, in format\n",
      "    record.message = record.getMessage()\n",
      "  File \"/usr/local/Cellar/python/2.7.9/Frameworks/Python.framework/Versions/2.7/lib/python2.7/logging/__init__.py\", line 335, in getMessage\n",
      "    msg = msg % self.args\n",
      "ValueError: tzinfo.utcoffset() returned 1440; must be in -1439 .. 1439\n",
      "Logged from file archive.py, line 97\n",
      "02:08:20 ERROR:Error timezone issues while detecting bad rows\n",
      "Traceback (most recent call last):\n",
      "  File \"/Users/nick/code/mailing-list-analysis/bigbang/bigbang/archive.py\", line 93, in __init__\n",
      "    future_comparison = row['Date'] < datetime.datetime.now(pytz.utc)\n",
      "ValueError: tzinfo.utcoffset() returned 1440; must be in -1439 .. 1439\n",
      "Traceback (most recent call last):\n",
      "  File \"/usr/local/Cellar/python/2.7.9/Frameworks/Python.framework/Versions/2.7/lib/python2.7/logging/__init__.py\", line 859, in emit\n",
      "    msg = self.format(record)\n",
      "  File \"/usr/local/Cellar/python/2.7.9/Frameworks/Python.framework/Versions/2.7/lib/python2.7/logging/__init__.py\", line 732, in format\n",
      "    return fmt.format(record)\n",
      "  File \"/usr/local/Cellar/python/2.7.9/Frameworks/Python.framework/Versions/2.7/lib/python2.7/logging/__init__.py\", line 471, in format\n",
      "    record.message = record.getMessage()\n",
      "  File \"/usr/local/Cellar/python/2.7.9/Frameworks/Python.framework/Versions/2.7/lib/python2.7/logging/__init__.py\", line 335, in getMessage\n",
      "    msg = msg % self.args\n",
      "ValueError: tzinfo.utcoffset() returned 1440; must be in -1439 .. 1439\n",
      "Logged from file archive.py, line 97\n",
      "02:08:20 ERROR:Error timezone issues while detecting bad rows\n",
      "Traceback (most recent call last):\n",
      "  File \"/Users/nick/code/mailing-list-analysis/bigbang/bigbang/archive.py\", line 93, in __init__\n",
      "    future_comparison = row['Date'] < datetime.datetime.now(pytz.utc)\n",
      "ValueError: tzinfo.utcoffset() returned 1440; must be in -1439 .. 1439\n",
      "Traceback (most recent call last):\n",
      "  File \"/usr/local/Cellar/python/2.7.9/Frameworks/Python.framework/Versions/2.7/lib/python2.7/logging/__init__.py\", line 859, in emit\n",
      "    msg = self.format(record)\n",
      "  File \"/usr/local/Cellar/python/2.7.9/Frameworks/Python.framework/Versions/2.7/lib/python2.7/logging/__init__.py\", line 732, in format\n",
      "    return fmt.format(record)\n",
      "  File \"/usr/local/Cellar/python/2.7.9/Frameworks/Python.framework/Versions/2.7/lib/python2.7/logging/__init__.py\", line 471, in format\n",
      "    record.message = record.getMessage()\n",
      "  File \"/usr/local/Cellar/python/2.7.9/Frameworks/Python.framework/Versions/2.7/lib/python2.7/logging/__init__.py\", line 335, in getMessage\n",
      "    msg = msg % self.args\n",
      "ValueError: tzinfo.utcoffset() returned 1440; must be in -1439 .. 1439\n",
      "Logged from file archive.py, line 97\n",
      "02:08:23 INFO:Dropped 5 rows\n"
     ]
    }
   ],
   "source": [
    "for i_list in ietf_lists[:5:\n",
    "    try:\n",
    "        i_list_archive = mailman.open_list_archives(i_list, ietf_archives_dir)\n",
    "        i_activity = Archive(i_list_archive).get_activity()\n",
    "        activity = pd.merge(activity, i_activity, how='outer', left_index=True, right_index=True)\n",
    "    except MissingDataException as e:\n",
    "        logging.error(exc_info=True)"
   ]
  },
  {
   "cell_type": "code",
   "execution_count": null,
   "metadata": {
    "collapsed": false
   },
   "outputs": [],
   "source": [
    "activity"
   ]
  },
  {
   "cell_type": "code",
   "execution_count": null,
   "metadata": {
    "collapsed": false
   },
   "outputs": [],
   "source": [
    "fig = plt.figure(figsize=(12.5, 7.5))\n",
    "\n",
    "(activity > 0).idxmax().hist()\n",
    "\n",
    "fig.axes[0].xaxis_date()"
   ]
  },
  {
   "cell_type": "code",
   "execution_count": null,
   "metadata": {
    "collapsed": true
   },
   "outputs": [],
   "source": []
  }
 ],
 "metadata": {
  "kernelspec": {
   "display_name": "Python 2",
   "language": "python",
   "name": "python2"
  },
  "language_info": {
   "codemirror_mode": {
    "name": "ipython",
    "version": 2
   },
   "file_extension": ".py",
   "mimetype": "text/x-python",
   "name": "python",
   "nbconvert_exporter": "python",
   "pygments_lexer": "ipython2",
   "version": "2.7.9"
  },
  "notify_time": "10"
 },
 "nbformat": 4,
 "nbformat_minor": 0
}

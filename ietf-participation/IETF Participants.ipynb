{
 "cells": [
  {
   "cell_type": "markdown",
   "metadata": {},
   "source": [
    "Our goal is to make a list of participants across IETF groups. Once we've done that, it should be possible to evaluate patterns of participation: how many people participate, in which groups, how does affiliation, gender, RFC authorship or other characteristics relate to levels of participation, and a variety of other related questions.\n",
    "\n",
    "Start by importing the necessary libraries."
   ]
  },
  {
   "cell_type": "code",
   "execution_count": 1,
   "metadata": {
    "collapsed": true
   },
   "outputs": [],
   "source": [
    "%matplotlib inline\n",
    "import bigbang.mailman as mailman\n",
    "import bigbang.graph as graph\n",
    "import bigbang.process as process\n",
    "from bigbang.parse import get_date\n",
    "from bigbang.archive import Archive\n",
    "import bigbang.utils as utils\n",
    "import pandas as pd\n",
    "import datetime\n",
    "import matplotlib.pyplot as plt\n",
    "import numpy as np\n",
    "import math\n",
    "import pytz\n",
    "import pickle\n",
    "import os\n",
    "import csv\n",
    "import re\n",
    "import scipy\n",
    "import scipy.cluster.hierarchy as sch\n",
    "import email"
   ]
  },
  {
   "cell_type": "code",
   "execution_count": 2,
   "metadata": {
    "collapsed": false
   },
   "outputs": [],
   "source": [
    "#pd.options.display.mpl_style = 'default' # pandas has a set of preferred graph formatting options\n",
    "plt.rcParams['axes.facecolor'] = 'white'\n",
    "import seaborn as sns\n",
    "sns.set()\n",
    "sns.set_style(\"white\")"
   ]
  },
  {
   "cell_type": "markdown",
   "metadata": {},
   "source": [
    "Let's start with a single IETF mailing list. (Later, we can expand to all current groups, or all IETF lists ever.)"
   ]
  },
  {
   "cell_type": "code",
   "execution_count": 3,
   "metadata": {
    "collapsed": false
   },
   "outputs": [
    {
     "name": "stdout",
     "output_type": "stream",
     "text": [
      "Opening 43 archive files\n"
     ]
    }
   ],
   "source": [
    "list_url = 'https://www.ietf.org/mail-archive/text/perpass/' # perpass happens to be one that I subscribe to\n",
    "\n",
    "ietf_archives_dir = '../../ietf-archives' # relative location of the ietf-archives directory/repo\n",
    "\n",
    "list_archive = mailman.open_list_archives(list_url, ietf_archives_dir)\n",
    "activity = Archive(list_archive).get_activity()"
   ]
  },
  {
   "cell_type": "code",
   "execution_count": 36,
   "metadata": {
    "collapsed": false
   },
   "outputs": [],
   "source": [
    "people = None\n",
    "people = pd.DataFrame(activity.sum(0), columns=['perpass']) # sum the message count, rather than by date"
   ]
  },
  {
   "cell_type": "code",
   "execution_count": 37,
   "metadata": {
    "collapsed": false
   },
   "outputs": [
    {
     "data": {
      "text/html": [
       "<div>\n",
       "<style scoped>\n",
       "    .dataframe tbody tr th:only-of-type {\n",
       "        vertical-align: middle;\n",
       "    }\n",
       "\n",
       "    .dataframe tbody tr th {\n",
       "        vertical-align: top;\n",
       "    }\n",
       "\n",
       "    .dataframe thead th {\n",
       "        text-align: right;\n",
       "    }\n",
       "</style>\n",
       "<table border=\"1\" class=\"dataframe\">\n",
       "  <thead>\n",
       "    <tr style=\"text-align: right;\">\n",
       "      <th></th>\n",
       "      <th>perpass</th>\n",
       "    </tr>\n",
       "  </thead>\n",
       "  <tbody>\n",
       "    <tr>\n",
       "      <th>count</th>\n",
       "      <td>261.000000</td>\n",
       "    </tr>\n",
       "    <tr>\n",
       "      <th>mean</th>\n",
       "      <td>8.015326</td>\n",
       "    </tr>\n",
       "    <tr>\n",
       "      <th>std</th>\n",
       "      <td>18.733961</td>\n",
       "    </tr>\n",
       "    <tr>\n",
       "      <th>min</th>\n",
       "      <td>1.000000</td>\n",
       "    </tr>\n",
       "    <tr>\n",
       "      <th>25%</th>\n",
       "      <td>1.000000</td>\n",
       "    </tr>\n",
       "    <tr>\n",
       "      <th>50%</th>\n",
       "      <td>2.000000</td>\n",
       "    </tr>\n",
       "    <tr>\n",
       "      <th>75%</th>\n",
       "      <td>7.000000</td>\n",
       "    </tr>\n",
       "    <tr>\n",
       "      <th>max</th>\n",
       "      <td>231.000000</td>\n",
       "    </tr>\n",
       "  </tbody>\n",
       "</table>\n",
       "</div>"
      ],
      "text/plain": [
       "          perpass\n",
       "count  261.000000\n",
       "mean     8.015326\n",
       "std     18.733961\n",
       "min      1.000000\n",
       "25%      1.000000\n",
       "50%      2.000000\n",
       "75%      7.000000\n",
       "max    231.000000"
      ]
     },
     "execution_count": 37,
     "metadata": {},
     "output_type": "execute_result"
    }
   ],
   "source": [
    "people.describe()"
   ]
  },
  {
   "cell_type": "markdown",
   "metadata": {},
   "source": [
    "Now repeat, parsing the archives and collecting the activities for all the mailing lists in the corpus. To make this faster, we try to open pre-created `-activity.csv` files which contain the activity summary for the full list archive. These files are created with `bin/mail_to_activity.py` or might be included in the mailing list archive repository."
   ]
  },
  {
   "cell_type": "code",
   "execution_count": 12,
   "metadata": {
    "collapsed": false
   },
   "outputs": [
    {
     "data": {
      "text/plain": [
       "<module 'bigbang.mailman' from '/Users/nick/code/mailing-list-analysis/bigbang/bigbang/mailman.py'>"
      ]
     },
     "execution_count": 12,
     "metadata": {},
     "output_type": "execute_result"
    }
   ],
   "source": [
    "reload(mailman)"
   ]
  },
  {
   "cell_type": "code",
   "execution_count": 4,
   "metadata": {
    "collapsed": false
   },
   "outputs": [],
   "source": [
    "f = open('ietf_lists_normalized.txt', 'r')\n",
    "ietf_lists = set(f.readlines()) # remove duplicates, which is a bug in list maintenance"
   ]
  },
  {
   "cell_type": "code",
   "execution_count": 38,
   "metadata": {
    "collapsed": false
   },
   "outputs": [],
   "source": [
    "list_activities = []\n",
    "\n",
    "for list_url in ietf_lists:\n",
    "    try:\n",
    "        activity_summary = mailman.open_activity_summary(list_url, ietf_archives_dir)\n",
    "        if activity_summary is not None:\n",
    "            list_activities.append((list_url, activity_summary))\n",
    "    except Exception as e:\n",
    "        print str(e)"
   ]
  },
  {
   "cell_type": "code",
   "execution_count": 39,
   "metadata": {
    "collapsed": false
   },
   "outputs": [
    {
     "data": {
      "text/plain": [
       "316"
      ]
     },
     "execution_count": 39,
     "metadata": {},
     "output_type": "execute_result"
    }
   ],
   "source": [
    "len(list_activities)"
   ]
  },
  {
   "cell_type": "markdown",
   "metadata": {},
   "source": [
    "Merge all of the activity summaries together, so that every row is a \"From\" field, with a column for every mailing list and a cell that includes the number of messages sent to that list. This will be a very sparse, 2-d table. **This operation is a little slow.** Don't repeat this operation without recreating `people` from the cells above."
   ]
  },
  {
   "cell_type": "code",
   "execution_count": 40,
   "metadata": {
    "collapsed": false
   },
   "outputs": [],
   "source": [
    "list_columns = []\n",
    "for (list_url, activity_summary) in list_activities:\n",
    "    list_name = mailman.get_list_name(list_url)\n",
    "    activity_summary.rename(columns={'Message Count': list_name}, inplace=True) # name the message count column for the list\n",
    "    people = pd.merge(people, activity_summary, how='outer', left_index=True, right_index=True)\n",
    "    list_columns.append(list_name) # keep a list of the columns that specifically represent mailing list message counts"
   ]
  },
  {
   "cell_type": "code",
   "execution_count": 41,
   "metadata": {
    "collapsed": false
   },
   "outputs": [
    {
     "data": {
      "text/plain": [
       "316"
      ]
     },
     "execution_count": 41,
     "metadata": {},
     "output_type": "execute_result"
    }
   ],
   "source": [
    "len(list_columns)"
   ]
  },
  {
   "cell_type": "code",
   "execution_count": 42,
   "metadata": {
    "collapsed": true
   },
   "outputs": [],
   "source": [
    "# the original message column was duplicated during the merge process, so we remove it here\n",
    "people = people.drop(columns=['perpass_y'])\n",
    "people = people.rename(columns={'perpass_x':'perpass'})"
   ]
  },
  {
   "cell_type": "code",
   "execution_count": 43,
   "metadata": {
    "collapsed": false
   },
   "outputs": [
    {
     "data": {
      "text/plain": [
       "316"
      ]
     },
     "execution_count": 43,
     "metadata": {},
     "output_type": "execute_result"
    }
   ],
   "source": [
    "len(people.columns.values)"
   ]
  },
  {
   "cell_type": "code",
   "execution_count": 44,
   "metadata": {
    "collapsed": false
   },
   "outputs": [
    {
     "data": {
      "text/html": [
       "<div>\n",
       "<style scoped>\n",
       "    .dataframe tbody tr th:only-of-type {\n",
       "        vertical-align: middle;\n",
       "    }\n",
       "\n",
       "    .dataframe tbody tr th {\n",
       "        vertical-align: top;\n",
       "    }\n",
       "\n",
       "    .dataframe thead th {\n",
       "        text-align: right;\n",
       "    }\n",
       "</style>\n",
       "<table border=\"1\" class=\"dataframe\">\n",
       "  <thead>\n",
       "    <tr style=\"text-align: right;\">\n",
       "      <th></th>\n",
       "      <th>perpass</th>\n",
       "      <th>enum</th>\n",
       "      <th>rip</th>\n",
       "      <th>yam</th>\n",
       "      <th>l2vpn</th>\n",
       "      <th>bgmp</th>\n",
       "      <th>ima</th>\n",
       "      <th>opsawg</th>\n",
       "      <th>bundled-domain-names</th>\n",
       "      <th>video-codec</th>\n",
       "      <th>...</th>\n",
       "      <th>perc</th>\n",
       "      <th>payload</th>\n",
       "      <th>trill</th>\n",
       "      <th>ietf-nntp</th>\n",
       "      <th>spud</th>\n",
       "      <th>imss</th>\n",
       "      <th>dhcwg</th>\n",
       "      <th>rmonmib</th>\n",
       "      <th>public-iri</th>\n",
       "      <th>lemonade</th>\n",
       "    </tr>\n",
       "  </thead>\n",
       "  <tbody>\n",
       "    <tr>\n",
       "      <th>count</th>\n",
       "      <td>261.000000</td>\n",
       "      <td>769.000000</td>\n",
       "      <td>369.000000</td>\n",
       "      <td>65.000000</td>\n",
       "      <td>602.000000</td>\n",
       "      <td>74.000000</td>\n",
       "      <td>207.000000</td>\n",
       "      <td>595.000000</td>\n",
       "      <td>17.000000</td>\n",
       "      <td>102.000000</td>\n",
       "      <td>...</td>\n",
       "      <td>58.000000</td>\n",
       "      <td>207.000000</td>\n",
       "      <td>472.000000</td>\n",
       "      <td>1.0</td>\n",
       "      <td>78.000000</td>\n",
       "      <td>1386.000000</td>\n",
       "      <td>1827.000000</td>\n",
       "      <td>1183.000000</td>\n",
       "      <td>189.000000</td>\n",
       "      <td>288.000000</td>\n",
       "    </tr>\n",
       "    <tr>\n",
       "      <th>mean</th>\n",
       "      <td>8.015326</td>\n",
       "      <td>9.338101</td>\n",
       "      <td>1.601626</td>\n",
       "      <td>12.861538</td>\n",
       "      <td>7.468439</td>\n",
       "      <td>2.148649</td>\n",
       "      <td>26.710145</td>\n",
       "      <td>8.710924</td>\n",
       "      <td>2.411765</td>\n",
       "      <td>5.441176</td>\n",
       "      <td>...</td>\n",
       "      <td>13.362069</td>\n",
       "      <td>8.304348</td>\n",
       "      <td>16.811441</td>\n",
       "      <td>0.0</td>\n",
       "      <td>9.884615</td>\n",
       "      <td>1.704906</td>\n",
       "      <td>11.452107</td>\n",
       "      <td>2.658495</td>\n",
       "      <td>12.804233</td>\n",
       "      <td>17.909722</td>\n",
       "    </tr>\n",
       "    <tr>\n",
       "      <th>std</th>\n",
       "      <td>18.733961</td>\n",
       "      <td>33.295553</td>\n",
       "      <td>4.827018</td>\n",
       "      <td>24.152431</td>\n",
       "      <td>18.298046</td>\n",
       "      <td>3.090784</td>\n",
       "      <td>76.347272</td>\n",
       "      <td>24.628358</td>\n",
       "      <td>2.670647</td>\n",
       "      <td>9.874032</td>\n",
       "      <td>...</td>\n",
       "      <td>20.529566</td>\n",
       "      <td>18.610445</td>\n",
       "      <td>63.417268</td>\n",
       "      <td>NaN</td>\n",
       "      <td>18.352240</td>\n",
       "      <td>5.865416</td>\n",
       "      <td>61.757912</td>\n",
       "      <td>17.197470</td>\n",
       "      <td>31.897255</td>\n",
       "      <td>53.059616</td>\n",
       "    </tr>\n",
       "    <tr>\n",
       "      <th>min</th>\n",
       "      <td>1.000000</td>\n",
       "      <td>0.000000</td>\n",
       "      <td>0.000000</td>\n",
       "      <td>1.000000</td>\n",
       "      <td>1.000000</td>\n",
       "      <td>0.000000</td>\n",
       "      <td>1.000000</td>\n",
       "      <td>1.000000</td>\n",
       "      <td>0.000000</td>\n",
       "      <td>1.000000</td>\n",
       "      <td>...</td>\n",
       "      <td>1.000000</td>\n",
       "      <td>1.000000</td>\n",
       "      <td>1.000000</td>\n",
       "      <td>0.0</td>\n",
       "      <td>1.000000</td>\n",
       "      <td>0.000000</td>\n",
       "      <td>1.000000</td>\n",
       "      <td>0.000000</td>\n",
       "      <td>1.000000</td>\n",
       "      <td>1.000000</td>\n",
       "    </tr>\n",
       "    <tr>\n",
       "      <th>25%</th>\n",
       "      <td>1.000000</td>\n",
       "      <td>1.000000</td>\n",
       "      <td>1.000000</td>\n",
       "      <td>1.000000</td>\n",
       "      <td>1.000000</td>\n",
       "      <td>1.000000</td>\n",
       "      <td>1.000000</td>\n",
       "      <td>1.000000</td>\n",
       "      <td>1.000000</td>\n",
       "      <td>1.000000</td>\n",
       "      <td>...</td>\n",
       "      <td>1.000000</td>\n",
       "      <td>1.000000</td>\n",
       "      <td>1.000000</td>\n",
       "      <td>0.0</td>\n",
       "      <td>1.250000</td>\n",
       "      <td>1.000000</td>\n",
       "      <td>1.000000</td>\n",
       "      <td>1.000000</td>\n",
       "      <td>1.000000</td>\n",
       "      <td>1.000000</td>\n",
       "    </tr>\n",
       "    <tr>\n",
       "      <th>50%</th>\n",
       "      <td>2.000000</td>\n",
       "      <td>1.000000</td>\n",
       "      <td>1.000000</td>\n",
       "      <td>3.000000</td>\n",
       "      <td>2.000000</td>\n",
       "      <td>1.000000</td>\n",
       "      <td>3.000000</td>\n",
       "      <td>2.000000</td>\n",
       "      <td>1.000000</td>\n",
       "      <td>2.000000</td>\n",
       "      <td>...</td>\n",
       "      <td>5.500000</td>\n",
       "      <td>3.000000</td>\n",
       "      <td>3.000000</td>\n",
       "      <td>0.0</td>\n",
       "      <td>4.000000</td>\n",
       "      <td>1.000000</td>\n",
       "      <td>2.000000</td>\n",
       "      <td>1.000000</td>\n",
       "      <td>2.000000</td>\n",
       "      <td>2.000000</td>\n",
       "    </tr>\n",
       "    <tr>\n",
       "      <th>75%</th>\n",
       "      <td>7.000000</td>\n",
       "      <td>4.000000</td>\n",
       "      <td>1.000000</td>\n",
       "      <td>10.000000</td>\n",
       "      <td>5.000000</td>\n",
       "      <td>1.000000</td>\n",
       "      <td>16.500000</td>\n",
       "      <td>6.000000</td>\n",
       "      <td>2.000000</td>\n",
       "      <td>5.000000</td>\n",
       "      <td>...</td>\n",
       "      <td>11.500000</td>\n",
       "      <td>7.000000</td>\n",
       "      <td>8.000000</td>\n",
       "      <td>0.0</td>\n",
       "      <td>8.750000</td>\n",
       "      <td>1.000000</td>\n",
       "      <td>5.000000</td>\n",
       "      <td>1.000000</td>\n",
       "      <td>8.000000</td>\n",
       "      <td>7.250000</td>\n",
       "    </tr>\n",
       "    <tr>\n",
       "      <th>max</th>\n",
       "      <td>231.000000</td>\n",
       "      <td>502.000000</td>\n",
       "      <td>85.000000</td>\n",
       "      <td>133.000000</td>\n",
       "      <td>197.000000</td>\n",
       "      <td>20.000000</td>\n",
       "      <td>799.000000</td>\n",
       "      <td>349.000000</td>\n",
       "      <td>11.000000</td>\n",
       "      <td>77.000000</td>\n",
       "      <td>...</td>\n",
       "      <td>96.000000</td>\n",
       "      <td>145.000000</td>\n",
       "      <td>1114.000000</td>\n",
       "      <td>0.0</td>\n",
       "      <td>99.000000</td>\n",
       "      <td>91.000000</td>\n",
       "      <td>1423.000000</td>\n",
       "      <td>496.000000</td>\n",
       "      <td>252.000000</td>\n",
       "      <td>493.000000</td>\n",
       "    </tr>\n",
       "  </tbody>\n",
       "</table>\n",
       "<p>8 rows × 316 columns</p>\n",
       "</div>"
      ],
      "text/plain": [
       "          perpass        enum         rip         yam       l2vpn       bgmp  \\\n",
       "count  261.000000  769.000000  369.000000   65.000000  602.000000  74.000000   \n",
       "mean     8.015326    9.338101    1.601626   12.861538    7.468439   2.148649   \n",
       "std     18.733961   33.295553    4.827018   24.152431   18.298046   3.090784   \n",
       "min      1.000000    0.000000    0.000000    1.000000    1.000000   0.000000   \n",
       "25%      1.000000    1.000000    1.000000    1.000000    1.000000   1.000000   \n",
       "50%      2.000000    1.000000    1.000000    3.000000    2.000000   1.000000   \n",
       "75%      7.000000    4.000000    1.000000   10.000000    5.000000   1.000000   \n",
       "max    231.000000  502.000000   85.000000  133.000000  197.000000  20.000000   \n",
       "\n",
       "              ima      opsawg  bundled-domain-names  video-codec     ...      \\\n",
       "count  207.000000  595.000000             17.000000   102.000000     ...       \n",
       "mean    26.710145    8.710924              2.411765     5.441176     ...       \n",
       "std     76.347272   24.628358              2.670647     9.874032     ...       \n",
       "min      1.000000    1.000000              0.000000     1.000000     ...       \n",
       "25%      1.000000    1.000000              1.000000     1.000000     ...       \n",
       "50%      3.000000    2.000000              1.000000     2.000000     ...       \n",
       "75%     16.500000    6.000000              2.000000     5.000000     ...       \n",
       "max    799.000000  349.000000             11.000000    77.000000     ...       \n",
       "\n",
       "            perc     payload        trill  ietf-nntp       spud         imss  \\\n",
       "count  58.000000  207.000000   472.000000        1.0  78.000000  1386.000000   \n",
       "mean   13.362069    8.304348    16.811441        0.0   9.884615     1.704906   \n",
       "std    20.529566   18.610445    63.417268        NaN  18.352240     5.865416   \n",
       "min     1.000000    1.000000     1.000000        0.0   1.000000     0.000000   \n",
       "25%     1.000000    1.000000     1.000000        0.0   1.250000     1.000000   \n",
       "50%     5.500000    3.000000     3.000000        0.0   4.000000     1.000000   \n",
       "75%    11.500000    7.000000     8.000000        0.0   8.750000     1.000000   \n",
       "max    96.000000  145.000000  1114.000000        0.0  99.000000    91.000000   \n",
       "\n",
       "             dhcwg      rmonmib  public-iri    lemonade  \n",
       "count  1827.000000  1183.000000  189.000000  288.000000  \n",
       "mean     11.452107     2.658495   12.804233   17.909722  \n",
       "std      61.757912    17.197470   31.897255   53.059616  \n",
       "min       1.000000     0.000000    1.000000    1.000000  \n",
       "25%       1.000000     1.000000    1.000000    1.000000  \n",
       "50%       2.000000     1.000000    2.000000    2.000000  \n",
       "75%       5.000000     1.000000    8.000000    7.250000  \n",
       "max    1423.000000   496.000000  252.000000  493.000000  \n",
       "\n",
       "[8 rows x 316 columns]"
      ]
     },
     "execution_count": 44,
     "metadata": {},
     "output_type": "execute_result"
    }
   ],
   "source": [
    "people.describe()"
   ]
  },
  {
   "cell_type": "code",
   "execution_count": 45,
   "metadata": {
    "collapsed": false
   },
   "outputs": [],
   "source": [
    "# not sure how the index ended up with NaN values, but need to change them to strings here so additional steps will work\n",
    "new_index = people.index.fillna('missing')\n",
    "people.index = new_index"
   ]
  },
  {
   "cell_type": "markdown",
   "metadata": {},
   "source": [
    "Split out the email address and header name from the From header we started with."
   ]
  },
  {
   "cell_type": "code",
   "execution_count": 46,
   "metadata": {
    "collapsed": false
   },
   "outputs": [],
   "source": [
    "froms = pd.Series(people.index)\n",
    "emails = froms.apply(lambda x: email.utils.parseaddr(x)[1])\n",
    "emails.index = people.index\n",
    "names = froms.apply(lambda x: email.utils.parseaddr(x)[0])\n",
    "names.index = people.index\n",
    "people['email'] = emails\n",
    "people['name'] = names"
   ]
  },
  {
   "cell_type": "markdown",
   "metadata": {},
   "source": [
    "Let's create some summary statistical columns."
   ]
  },
  {
   "cell_type": "code",
   "execution_count": 47,
   "metadata": {
    "collapsed": false
   },
   "outputs": [],
   "source": [
    "people['Total Messages'] = people[list_columns].sum(axis=1)\n",
    "people['Number of Groups'] = people[list_columns].count(axis=1)\n",
    "people['Median Messages per Group'] = people[list_columns].median(axis=1)"
   ]
  },
  {
   "cell_type": "code",
   "execution_count": 48,
   "metadata": {
    "collapsed": false
   },
   "outputs": [
    {
     "data": {
      "text/plain": [
       "1203307.0"
      ]
     },
     "execution_count": 48,
     "metadata": {},
     "output_type": "execute_result"
    }
   ],
   "source": [
    "people['Total Messages'].sum()"
   ]
  },
  {
   "cell_type": "code",
   "execution_count": 49,
   "metadata": {
    "collapsed": false
   },
   "outputs": [
    {
     "data": {
      "text/plain": [
       "count    101510.000000\n",
       "mean         11.854073\n",
       "std         120.914508\n",
       "min           0.000000\n",
       "25%           1.000000\n",
       "50%           1.000000\n",
       "75%           2.000000\n",
       "max       17452.000000\n",
       "Name: Total Messages, dtype: float64"
      ]
     },
     "execution_count": 49,
     "metadata": {},
     "output_type": "execute_result"
    }
   ],
   "source": [
    "people['Total Messages'].describe()"
   ]
  },
  {
   "cell_type": "markdown",
   "metadata": {},
   "source": [
    "In this corpus, **101,510** \"people\" sent a combined total of **1.2 million messages**. Most people sent only 1 message."
   ]
  },
  {
   "cell_type": "markdown",
   "metadata": {},
   "source": [
    "The vast majority of people send only a few messages, and to only a couple of lists. (These histograms use a log axis for Y, without which you couldn't even see the columns besides the first.)"
   ]
  },
  {
   "cell_type": "code",
   "execution_count": 138,
   "metadata": {
    "collapsed": false
   },
   "outputs": [
    {
     "data": {
      "text/plain": [
       "<matplotlib.axes._subplots.AxesSubplot at 0x11e11d210>"
      ]
     },
     "execution_count": 138,
     "metadata": {},
     "output_type": "execute_result"
    },
    {
     "data": {
      "image/png": "[encoded data removed]",
      "text/plain": [
       "<matplotlib.figure.Figure at 0x11f3cd7d0>"
      ]
     },
     "metadata": {},
     "output_type": "display_data"
    },
    {
     "data": {
      "image/png": "[encoded data removed]",
      "text/plain": [
       "<matplotlib.figure.Figure at 0x11f0b3cd0>"
      ]
     },
     "metadata": {},
     "output_type": "display_data"
    }
   ],
   "source": [
    "people[['Total Messages']].plot(kind='hist', bins=100, logy=True, logx=False)\n",
    "people[['Number of Groups']].plot(kind='hist', bins=100, logy=True, logx=False)"
   ]
  },
  {
   "cell_type": "markdown",
   "metadata": {},
   "source": [
    "The median number of messages that a user sends to a group is also heavily weighted towards a small number, but the curve doesn't seem to drop off in the same extreme manner. There is a non-random tendency to send some messages to a group?"
   ]
  },
  {
   "cell_type": "code",
   "execution_count": 62,
   "metadata": {
    "collapsed": false
   },
   "outputs": [
    {
     "data": {
      "text/plain": [
       "<matplotlib.axes._subplots.AxesSubplot at 0x10dac15d0>"
      ]
     },
     "execution_count": 62,
     "metadata": {},
     "output_type": "execute_result"
    },
    {
     "data": {
      "image/png": "[encoded data removed]",
      "text/plain": [
       "<matplotlib.figure.Figure at 0x10df648d0>"
      ]
     },
     "metadata": {},
     "output_type": "display_data"
    }
   ],
   "source": [
    "working[['Median Messages per Group']].plot(kind='hist', bins=100, logy=True)"
   ]
  },
  {
   "cell_type": "markdown",
   "metadata": {},
   "source": [
    "Is there a relationship between the number of groups that a user has sent messages to and the number of messages that user has sent (total, or the median number to groups)?"
   ]
  },
  {
   "cell_type": "code",
   "execution_count": 58,
   "metadata": {
    "collapsed": false
   },
   "outputs": [
    {
     "data": {
      "text/plain": [
       "<matplotlib.axes._subplots.AxesSubplot at 0x10d06ce50>"
      ]
     },
     "execution_count": 58,
     "metadata": {},
     "output_type": "execute_result"
    },
    {
     "data": {
      "image/png": "[encoded data removed]",
      "text/plain": [
       "<matplotlib.figure.Figure at 0x10d0fa090>"
      ]
     },
     "metadata": {},
     "output_type": "display_data"
    }
   ],
   "source": [
    "working.plot.scatter('Number of Groups','Total Messages', xlim=(1,300), ylim=(1,20000), logx=False, logy=True)"
   ]
  },
  {
   "cell_type": "code",
   "execution_count": 71,
   "metadata": {
    "collapsed": false
   },
   "outputs": [
    {
     "name": "stderr",
     "output_type": "stream",
     "text": [
      "/usr/local/lib/python2.7/site-packages/ipykernel/__main__.py:3: SettingWithCopyWarning: \n",
      "A value is trying to be set on a copy of a slice from a DataFrame.\n",
      "Try using .loc[row_indexer,col_indexer] = value instead\n",
      "\n",
      "See the caveats in the documentation: http://pandas.pydata.org/pandas-docs/stable/indexing.html#indexing-view-versus-copy\n",
      "  app.launch_new_instance()\n",
      "/usr/local/lib/python2.7/site-packages/ipykernel/__main__.py:4: SettingWithCopyWarning: \n",
      "A value is trying to be set on a copy of a slice from a DataFrame.\n",
      "Try using .loc[row_indexer,col_indexer] = value instead\n",
      "\n",
      "See the caveats in the documentation: http://pandas.pydata.org/pandas-docs/stable/indexing.html#indexing-view-versus-copy\n"
     ]
    }
   ],
   "source": [
    "working = people[people['Total Messages'] > 1]\n",
    "\n",
    "working['Total Messages (log)'] = np.log10(working['Total Messages'])\n",
    "working['Number of Groups (log)'] = np.log10(working['Number of Groups'])\n"
   ]
  },
  {
   "cell_type": "code",
   "execution_count": 79,
   "metadata": {
    "collapsed": false
   },
   "outputs": [
    {
     "data": {
      "image/png": "[encoded data removed]",
      "text/plain": [
       "<matplotlib.figure.Figure at 0x10f865110>"
      ]
     },
     "metadata": {},
     "output_type": "display_data"
    }
   ],
   "source": [
    "sns.jointplot(x='Number of Groups',y='Total Messages (log)', data=working, kind=\"kde\", xlim=(0,50), ylim=(0,3));"
   ]
  },
  {
   "cell_type": "code",
   "execution_count": 122,
   "metadata": {
    "collapsed": false
   },
   "outputs": [
    {
     "data": {
      "text/plain": [
       "<matplotlib.axes._subplots.AxesSubplot at 0x123b2ea90>"
      ]
     },
     "execution_count": 122,
     "metadata": {},
     "output_type": "execute_result"
    },
    {
     "data": {
      "image/png": "[encoded data removed]",
      "text/plain": [
       "<matplotlib.figure.Figure at 0x123c15e50>"
      ]
     },
     "metadata": {},
     "output_type": "display_data"
    }
   ],
   "source": [
    "people.plot.scatter('Number of Groups','Median Messages per Group', logx=True, logy=True, xlim=(1,300), ylim=(1,2000))"
   ]
  },
  {
   "cell_type": "markdown",
   "metadata": {},
   "source": [
    "Can we learn groupings of the participants based on their message patterns?"
   ]
  },
  {
   "cell_type": "code",
   "execution_count": 83,
   "metadata": {
    "collapsed": false
   },
   "outputs": [
    {
     "data": {
      "text/plain": [
       "Index([u'perpass', u'enum', u'rip', u'yam', u'l2vpn', u'bgmp', u'ima',\n",
       "       u'opsawg', u'bundled-domain-names', u'video-codec',\n",
       "       ...\n",
       "       u'imss', u'dhcwg', u'rmonmib', u'public-iri', u'lemonade', u'email',\n",
       "       u'name', u'Total Messages', u'Number of Groups',\n",
       "       u'Median Messages per Group'],\n",
       "      dtype='object', length=321)"
      ]
     },
     "execution_count": 83,
     "metadata": {},
     "output_type": "execute_result"
    }
   ],
   "source": [
    "people.columns"
   ]
  },
  {
   "cell_type": "code",
   "execution_count": 99,
   "metadata": {
    "collapsed": true
   },
   "outputs": [],
   "source": [
    "messages = people[people['Total Messages'] > 1]\n",
    "\n",
    "messages = people.drop(columns=['email','name','Total Messages','Number of Groups','Median Messages per Group'])"
   ]
  },
  {
   "cell_type": "code",
   "execution_count": 100,
   "metadata": {
    "collapsed": true
   },
   "outputs": [],
   "source": [
    "messages = messages.fillna(0)"
   ]
  },
  {
   "cell_type": "code",
   "execution_count": 101,
   "metadata": {
    "collapsed": false
   },
   "outputs": [
    {
     "data": {
      "text/plain": [
       "PCA(copy=True, iterated_power='auto', n_components=5, random_state=None,\n",
       "  svd_solver='auto', tol=0.0, whiten=True)"
      ]
     },
     "execution_count": 101,
     "metadata": {},
     "output_type": "execute_result"
    }
   ],
   "source": [
    "from sklearn.decomposition import PCA\n",
    "\n",
    "pca = PCA(n_components=5, whiten=True)\n",
    "pca.fit(messages)"
   ]
  },
  {
   "cell_type": "code",
   "execution_count": 102,
   "metadata": {
    "collapsed": false
   },
   "outputs": [
    {
     "data": {
      "text/plain": [
       "array([[-0.01901216, -0.05123827,  0.02105072, -0.0304119 , -0.02341258],\n",
       "       [-0.01802965, -0.04371236,  0.01759724, -0.00219999, -0.0296567 ],\n",
       "       [-0.01913431, -0.05238502,  0.02195771, -0.02988083, -0.02232099],\n",
       "       ...,\n",
       "       [-0.0181813 , -0.04116838,  0.0130806 , -0.03162603, -0.0209771 ],\n",
       "       [-0.01935696, -0.05400182,  0.02278865, -0.03301847, -0.02450615],\n",
       "       [-0.01935696, -0.05400182,  0.02278865, -0.03301847, -0.02450615]])"
      ]
     },
     "execution_count": 102,
     "metadata": {},
     "output_type": "execute_result"
    }
   ],
   "source": [
    "pca.transform(messages)"
   ]
  },
  {
   "cell_type": "code",
   "execution_count": 103,
   "metadata": {
    "collapsed": false
   },
   "outputs": [
    {
     "data": {
      "text/plain": [
       "array([0.10500217, 0.07267045, 0.06895331, 0.05183373, 0.03677892])"
      ]
     },
     "execution_count": 103,
     "metadata": {},
     "output_type": "execute_result"
    }
   ],
   "source": [
    "pca.explained_variance_ratio_"
   ]
  },
  {
   "cell_type": "code",
   "execution_count": 104,
   "metadata": {
    "collapsed": true
   },
   "outputs": [],
   "source": [
    "component_df = pd.DataFrame(pca.transform(messages), columns=['PCA%i' % i for i in range(5)], index=messages.index)"
   ]
  },
  {
   "cell_type": "code",
   "execution_count": 105,
   "metadata": {
    "collapsed": false
   },
   "outputs": [
    {
     "data": {
      "text/plain": [
       "<matplotlib.axes._subplots.AxesSubplot at 0x10f6a6d50>"
      ]
     },
     "execution_count": 105,
     "metadata": {},
     "output_type": "execute_result"
    },
    {
     "data": {
      "image/png": "[encoded data removed]",
      "text/plain": [
       "<matplotlib.figure.Figure at 0x10e5e5e10>"
      ]
     },
     "metadata": {},
     "output_type": "display_data"
    }
   ],
   "source": [
    "component_df.plot.scatter(x='PCA0',y='PCA1')"
   ]
  },
  {
   "cell_type": "code",
   "execution_count": 1,
   "metadata": {
    "collapsed": false
   },
   "outputs": [
    {
     "ename": "NameError",
     "evalue": "name 'messages' is not defined",
     "output_type": "error",
     "traceback": [
      "\u001b[0;31m---------------------------------------------------------------------------\u001b[0m",
      "\u001b[0;31mNameError\u001b[0m                                 Traceback (most recent call last)",
      "\u001b[0;32m<ipython-input-1-2d8d6fa1f84d>\u001b[0m in \u001b[0;36m<module>\u001b[0;34m()\u001b[0m\n\u001b[1;32m      1\u001b[0m \u001b[0;32mfrom\u001b[0m \u001b[0msklearn\u001b[0m \u001b[0;32mimport\u001b[0m \u001b[0mcluster\u001b[0m\u001b[0;34m,\u001b[0m \u001b[0mcovariance\u001b[0m\u001b[0;34m,\u001b[0m \u001b[0mmanifold\u001b[0m\u001b[0;34m\u001b[0m\u001b[0m\n\u001b[1;32m      2\u001b[0m \u001b[0;34m\u001b[0m\u001b[0m\n\u001b[0;32m----> 3\u001b[0;31m \u001b[0maf\u001b[0m \u001b[0;34m=\u001b[0m \u001b[0mcluster\u001b[0m\u001b[0;34m.\u001b[0m\u001b[0mAffinityPropagation\u001b[0m\u001b[0;34m(\u001b[0m\u001b[0;34m)\u001b[0m\u001b[0;34m.\u001b[0m\u001b[0mfit_predict\u001b[0m\u001b[0;34m(\u001b[0m\u001b[0mmessages\u001b[0m\u001b[0;34m)\u001b[0m\u001b[0;34m\u001b[0m\u001b[0m\n\u001b[0m",
      "\u001b[0;31mNameError\u001b[0m: name 'messages' is not defined"
     ]
    }
   ],
   "source": [
    "from sklearn import cluster, covariance, manifold\n",
    "\n",
    "af = cluster.AffinityPropagation().fit_predict(messages)"
   ]
  },
  {
   "cell_type": "code",
   "execution_count": null,
   "metadata": {
    "collapsed": true
   },
   "outputs": [],
   "source": []
  }
 ],
 "metadata": {
  "kernelspec": {
   "display_name": "Python 2",
   "language": "python",
   "name": "python2"
  },
  "language_info": {
   "codemirror_mode": {
    "name": "ipython",
    "version": 2
   },
   "file_extension": ".py",
   "mimetype": "text/x-python",
   "name": "python",
   "nbconvert_exporter": "python",
   "pygments_lexer": "ipython2",
   "version": "2.7.9"
  }
 },
 "nbformat": 4,
 "nbformat_minor": 0
}

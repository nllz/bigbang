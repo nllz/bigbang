{
 "cells": [
  {
   "cell_type": "markdown",
   "metadata": {},
   "source": [
    "We want to analyze participants and patterns of participation across IETF groups. How many people participate, in which groups, how does affiliation, gender, RFC authorship or other characteristics relate to levels of participation, and a variety of other related questions. How do groups relate to one another? Which participants provide important connections between groups?"
   ]
  },
  {
   "cell_type": "markdown",
   "metadata": {
    "heading_collapsed": true
   },
   "source": [
    "## Setup and gather data"
   ]
  },
  {
   "cell_type": "markdown",
   "metadata": {
    "hidden": true
   },
   "source": [
    "Start by importing the necessary libraries."
   ]
  },
  {
   "cell_type": "code",
   "execution_count": 1,
   "metadata": {
    "collapsed": true,
    "hidden": true
   },
   "outputs": [],
   "source": [
    "%matplotlib inline\n",
    "import bigbang.mailman as mailman\n",
    "import bigbang.graph as graph\n",
    "import bigbang.process as process\n",
    "from bigbang.parse import get_date\n",
    "from bigbang.archive import Archive\n",
    "import bigbang.utils as utils\n",
    "import pandas as pd\n",
    "import datetime\n",
    "import matplotlib.pyplot as plt\n",
    "import numpy as np\n",
    "import math\n",
    "import pytz\n",
    "import pickle\n",
    "import os\n",
    "import csv\n",
    "import re\n",
    "import scipy\n",
    "import scipy.cluster.hierarchy as sch\n",
    "import email"
   ]
  },
  {
   "cell_type": "code",
   "execution_count": 2,
   "metadata": {
    "collapsed": false,
    "hidden": true
   },
   "outputs": [],
   "source": [
    "#pd.options.display.mpl_style = 'default' # pandas has a set of preferred graph formatting options\n",
    "plt.rcParams['axes.facecolor'] = 'white'\n",
    "import seaborn as sns\n",
    "sns.set()\n",
    "sns.set_style(\"white\")"
   ]
  },
  {
   "cell_type": "markdown",
   "metadata": {
    "hidden": true
   },
   "source": [
    "Let's start with a single IETF mailing list. (Later, we can expand to all current groups, or all IETF lists ever.)"
   ]
  },
  {
   "cell_type": "code",
   "execution_count": 3,
   "metadata": {
    "collapsed": false,
    "hidden": true
   },
   "outputs": [
    {
     "name": "stdout",
     "output_type": "stream",
     "text": [
      "Opening 43 archive files\n"
     ]
    }
   ],
   "source": [
    "list_url = 'https://www.ietf.org/mail-archive/text/perpass/' # perpass happens to be one that I subscribe to\n",
    "\n",
    "ietf_archives_dir = '../../ietf-archives' # relative location of the ietf-archives directory/repo\n",
    "\n",
    "list_archive = mailman.open_list_archives(list_url, ietf_archives_dir)\n",
    "activity = Archive(list_archive).get_activity()"
   ]
  },
  {
   "cell_type": "code",
   "execution_count": 4,
   "metadata": {
    "collapsed": false,
    "hidden": true
   },
   "outputs": [],
   "source": [
    "people = None\n",
    "people = pd.DataFrame(activity.sum(0), columns=['perpass']) # sum the message count, rather than by date"
   ]
  },
  {
   "cell_type": "code",
   "execution_count": 5,
   "metadata": {
    "collapsed": false,
    "hidden": true
   },
   "outputs": [
    {
     "data": {
      "text/html": [
       "<div>\n",
       "<style scoped>\n",
       "    .dataframe tbody tr th:only-of-type {\n",
       "        vertical-align: middle;\n",
       "    }\n",
       "\n",
       "    .dataframe tbody tr th {\n",
       "        vertical-align: top;\n",
       "    }\n",
       "\n",
       "    .dataframe thead th {\n",
       "        text-align: right;\n",
       "    }\n",
       "</style>\n",
       "<table border=\"1\" class=\"dataframe\">\n",
       "  <thead>\n",
       "    <tr style=\"text-align: right;\">\n",
       "      <th></th>\n",
       "      <th>perpass</th>\n",
       "    </tr>\n",
       "  </thead>\n",
       "  <tbody>\n",
       "    <tr>\n",
       "      <th>count</th>\n",
       "      <td>261.000000</td>\n",
       "    </tr>\n",
       "    <tr>\n",
       "      <th>mean</th>\n",
       "      <td>8.015326</td>\n",
       "    </tr>\n",
       "    <tr>\n",
       "      <th>std</th>\n",
       "      <td>18.733961</td>\n",
       "    </tr>\n",
       "    <tr>\n",
       "      <th>min</th>\n",
       "      <td>1.000000</td>\n",
       "    </tr>\n",
       "    <tr>\n",
       "      <th>25%</th>\n",
       "      <td>1.000000</td>\n",
       "    </tr>\n",
       "    <tr>\n",
       "      <th>50%</th>\n",
       "      <td>2.000000</td>\n",
       "    </tr>\n",
       "    <tr>\n",
       "      <th>75%</th>\n",
       "      <td>7.000000</td>\n",
       "    </tr>\n",
       "    <tr>\n",
       "      <th>max</th>\n",
       "      <td>231.000000</td>\n",
       "    </tr>\n",
       "  </tbody>\n",
       "</table>\n",
       "</div>"
      ],
      "text/plain": [
       "          perpass\n",
       "count  261.000000\n",
       "mean     8.015326\n",
       "std     18.733961\n",
       "min      1.000000\n",
       "25%      1.000000\n",
       "50%      2.000000\n",
       "75%      7.000000\n",
       "max    231.000000"
      ]
     },
     "execution_count": 5,
     "metadata": {},
     "output_type": "execute_result"
    }
   ],
   "source": [
    "people.describe()"
   ]
  },
  {
   "cell_type": "markdown",
   "metadata": {
    "hidden": true
   },
   "source": [
    "Now repeat, parsing the archives and collecting the activities for all the mailing lists in the corpus. To make this faster, we try to open pre-created `-activity.csv` files which contain the activity summary for the full list archive. These files are created with `bin/mail_to_activity.py` or might be included in the mailing list archive repository."
   ]
  },
  {
   "cell_type": "code",
   "execution_count": 6,
   "metadata": {
    "collapsed": false,
    "hidden": true
   },
   "outputs": [],
   "source": [
    "f = open('ietf_lists_normalized.txt', 'r')\n",
    "ietf_lists = set(f.readlines()) # remove duplicates, which is a bug in list maintenance"
   ]
  },
  {
   "cell_type": "code",
   "execution_count": 7,
   "metadata": {
    "collapsed": false,
    "hidden": true
   },
   "outputs": [],
   "source": [
    "list_activities = []\n",
    "\n",
    "for list_url in ietf_lists:\n",
    "    try:\n",
    "        activity_summary = mailman.open_activity_summary(list_url, ietf_archives_dir)\n",
    "        if activity_summary is not None:\n",
    "            list_activities.append((list_url, activity_summary))\n",
    "    except Exception as e:\n",
    "        print str(e)"
   ]
  },
  {
   "cell_type": "code",
   "execution_count": 8,
   "metadata": {
    "collapsed": false,
    "hidden": true
   },
   "outputs": [
    {
     "data": {
      "text/plain": [
       "316"
      ]
     },
     "execution_count": 8,
     "metadata": {},
     "output_type": "execute_result"
    }
   ],
   "source": [
    "len(list_activities)"
   ]
  },
  {
   "cell_type": "markdown",
   "metadata": {
    "hidden": true
   },
   "source": [
    "Merge all of the activity summaries together, so that every row is a \"From\" field, with a column for every mailing list and a cell that includes the number of messages sent to that list. This will be a very sparse, 2-d table. **This operation is a little slow.** Don't repeat this operation without recreating `people` from the cells above."
   ]
  },
  {
   "cell_type": "code",
   "execution_count": 9,
   "metadata": {
    "collapsed": false,
    "hidden": true
   },
   "outputs": [],
   "source": [
    "list_columns = []\n",
    "for (list_url, activity_summary) in list_activities:\n",
    "    list_name = mailman.get_list_name(list_url)\n",
    "    activity_summary.rename(columns={'Message Count': list_name}, inplace=True) # name the message count column for the list\n",
    "    people = pd.merge(people, activity_summary, how='outer', left_index=True, right_index=True)\n",
    "    list_columns.append(list_name) # keep a list of the columns that specifically represent mailing list message counts"
   ]
  },
  {
   "cell_type": "code",
   "execution_count": 10,
   "metadata": {
    "collapsed": true,
    "hidden": true
   },
   "outputs": [],
   "source": [
    "# the original message column was duplicated during the merge process, so we remove it here\n",
    "people = people.drop(columns=['perpass_y'])\n",
    "people = people.rename(columns={'perpass_x':'perpass'})"
   ]
  },
  {
   "cell_type": "code",
   "execution_count": 11,
   "metadata": {
    "collapsed": false,
    "hidden": true
   },
   "outputs": [
    {
     "data": {
      "text/html": [
       "<div>\n",
       "<style scoped>\n",
       "    .dataframe tbody tr th:only-of-type {\n",
       "        vertical-align: middle;\n",
       "    }\n",
       "\n",
       "    .dataframe tbody tr th {\n",
       "        vertical-align: top;\n",
       "    }\n",
       "\n",
       "    .dataframe thead th {\n",
       "        text-align: right;\n",
       "    }\n",
       "</style>\n",
       "<table border=\"1\" class=\"dataframe\">\n",
       "  <thead>\n",
       "    <tr style=\"text-align: right;\">\n",
       "      <th></th>\n",
       "      <th>perpass</th>\n",
       "      <th>enum</th>\n",
       "      <th>rip</th>\n",
       "      <th>yam</th>\n",
       "      <th>l2vpn</th>\n",
       "      <th>bgmp</th>\n",
       "      <th>ima</th>\n",
       "      <th>opsawg</th>\n",
       "      <th>bundled-domain-names</th>\n",
       "      <th>video-codec</th>\n",
       "      <th>...</th>\n",
       "      <th>perc</th>\n",
       "      <th>payload</th>\n",
       "      <th>trill</th>\n",
       "      <th>ietf-nntp</th>\n",
       "      <th>spud</th>\n",
       "      <th>imss</th>\n",
       "      <th>dhcwg</th>\n",
       "      <th>rmonmib</th>\n",
       "      <th>public-iri</th>\n",
       "      <th>lemonade</th>\n",
       "    </tr>\n",
       "  </thead>\n",
       "  <tbody>\n",
       "    <tr>\n",
       "      <th>count</th>\n",
       "      <td>261.000000</td>\n",
       "      <td>769.000000</td>\n",
       "      <td>369.000000</td>\n",
       "      <td>65.000000</td>\n",
       "      <td>602.000000</td>\n",
       "      <td>74.000000</td>\n",
       "      <td>207.000000</td>\n",
       "      <td>595.000000</td>\n",
       "      <td>17.000000</td>\n",
       "      <td>102.000000</td>\n",
       "      <td>...</td>\n",
       "      <td>58.000000</td>\n",
       "      <td>207.000000</td>\n",
       "      <td>472.000000</td>\n",
       "      <td>1.0</td>\n",
       "      <td>78.000000</td>\n",
       "      <td>1386.000000</td>\n",
       "      <td>1827.000000</td>\n",
       "      <td>1183.000000</td>\n",
       "      <td>189.000000</td>\n",
       "      <td>288.000000</td>\n",
       "    </tr>\n",
       "    <tr>\n",
       "      <th>mean</th>\n",
       "      <td>8.015326</td>\n",
       "      <td>9.338101</td>\n",
       "      <td>1.601626</td>\n",
       "      <td>12.861538</td>\n",
       "      <td>7.468439</td>\n",
       "      <td>2.148649</td>\n",
       "      <td>26.710145</td>\n",
       "      <td>8.710924</td>\n",
       "      <td>2.411765</td>\n",
       "      <td>5.441176</td>\n",
       "      <td>...</td>\n",
       "      <td>13.362069</td>\n",
       "      <td>8.304348</td>\n",
       "      <td>16.811441</td>\n",
       "      <td>0.0</td>\n",
       "      <td>9.884615</td>\n",
       "      <td>1.704906</td>\n",
       "      <td>11.452107</td>\n",
       "      <td>2.658495</td>\n",
       "      <td>12.804233</td>\n",
       "      <td>17.909722</td>\n",
       "    </tr>\n",
       "    <tr>\n",
       "      <th>std</th>\n",
       "      <td>18.733961</td>\n",
       "      <td>33.295553</td>\n",
       "      <td>4.827018</td>\n",
       "      <td>24.152431</td>\n",
       "      <td>18.298046</td>\n",
       "      <td>3.090784</td>\n",
       "      <td>76.347272</td>\n",
       "      <td>24.628358</td>\n",
       "      <td>2.670647</td>\n",
       "      <td>9.874032</td>\n",
       "      <td>...</td>\n",
       "      <td>20.529566</td>\n",
       "      <td>18.610445</td>\n",
       "      <td>63.417268</td>\n",
       "      <td>NaN</td>\n",
       "      <td>18.352240</td>\n",
       "      <td>5.865416</td>\n",
       "      <td>61.757912</td>\n",
       "      <td>17.197470</td>\n",
       "      <td>31.897255</td>\n",
       "      <td>53.059616</td>\n",
       "    </tr>\n",
       "    <tr>\n",
       "      <th>min</th>\n",
       "      <td>1.000000</td>\n",
       "      <td>0.000000</td>\n",
       "      <td>0.000000</td>\n",
       "      <td>1.000000</td>\n",
       "      <td>1.000000</td>\n",
       "      <td>0.000000</td>\n",
       "      <td>1.000000</td>\n",
       "      <td>1.000000</td>\n",
       "      <td>0.000000</td>\n",
       "      <td>1.000000</td>\n",
       "      <td>...</td>\n",
       "      <td>1.000000</td>\n",
       "      <td>1.000000</td>\n",
       "      <td>1.000000</td>\n",
       "      <td>0.0</td>\n",
       "      <td>1.000000</td>\n",
       "      <td>0.000000</td>\n",
       "      <td>1.000000</td>\n",
       "      <td>0.000000</td>\n",
       "      <td>1.000000</td>\n",
       "      <td>1.000000</td>\n",
       "    </tr>\n",
       "    <tr>\n",
       "      <th>25%</th>\n",
       "      <td>1.000000</td>\n",
       "      <td>1.000000</td>\n",
       "      <td>1.000000</td>\n",
       "      <td>1.000000</td>\n",
       "      <td>1.000000</td>\n",
       "      <td>1.000000</td>\n",
       "      <td>1.000000</td>\n",
       "      <td>1.000000</td>\n",
       "      <td>1.000000</td>\n",
       "      <td>1.000000</td>\n",
       "      <td>...</td>\n",
       "      <td>1.000000</td>\n",
       "      <td>1.000000</td>\n",
       "      <td>1.000000</td>\n",
       "      <td>0.0</td>\n",
       "      <td>1.250000</td>\n",
       "      <td>1.000000</td>\n",
       "      <td>1.000000</td>\n",
       "      <td>1.000000</td>\n",
       "      <td>1.000000</td>\n",
       "      <td>1.000000</td>\n",
       "    </tr>\n",
       "    <tr>\n",
       "      <th>50%</th>\n",
       "      <td>2.000000</td>\n",
       "      <td>1.000000</td>\n",
       "      <td>1.000000</td>\n",
       "      <td>3.000000</td>\n",
       "      <td>2.000000</td>\n",
       "      <td>1.000000</td>\n",
       "      <td>3.000000</td>\n",
       "      <td>2.000000</td>\n",
       "      <td>1.000000</td>\n",
       "      <td>2.000000</td>\n",
       "      <td>...</td>\n",
       "      <td>5.500000</td>\n",
       "      <td>3.000000</td>\n",
       "      <td>3.000000</td>\n",
       "      <td>0.0</td>\n",
       "      <td>4.000000</td>\n",
       "      <td>1.000000</td>\n",
       "      <td>2.000000</td>\n",
       "      <td>1.000000</td>\n",
       "      <td>2.000000</td>\n",
       "      <td>2.000000</td>\n",
       "    </tr>\n",
       "    <tr>\n",
       "      <th>75%</th>\n",
       "      <td>7.000000</td>\n",
       "      <td>4.000000</td>\n",
       "      <td>1.000000</td>\n",
       "      <td>10.000000</td>\n",
       "      <td>5.000000</td>\n",
       "      <td>1.000000</td>\n",
       "      <td>16.500000</td>\n",
       "      <td>6.000000</td>\n",
       "      <td>2.000000</td>\n",
       "      <td>5.000000</td>\n",
       "      <td>...</td>\n",
       "      <td>11.500000</td>\n",
       "      <td>7.000000</td>\n",
       "      <td>8.000000</td>\n",
       "      <td>0.0</td>\n",
       "      <td>8.750000</td>\n",
       "      <td>1.000000</td>\n",
       "      <td>5.000000</td>\n",
       "      <td>1.000000</td>\n",
       "      <td>8.000000</td>\n",
       "      <td>7.250000</td>\n",
       "    </tr>\n",
       "    <tr>\n",
       "      <th>max</th>\n",
       "      <td>231.000000</td>\n",
       "      <td>502.000000</td>\n",
       "      <td>85.000000</td>\n",
       "      <td>133.000000</td>\n",
       "      <td>197.000000</td>\n",
       "      <td>20.000000</td>\n",
       "      <td>799.000000</td>\n",
       "      <td>349.000000</td>\n",
       "      <td>11.000000</td>\n",
       "      <td>77.000000</td>\n",
       "      <td>...</td>\n",
       "      <td>96.000000</td>\n",
       "      <td>145.000000</td>\n",
       "      <td>1114.000000</td>\n",
       "      <td>0.0</td>\n",
       "      <td>99.000000</td>\n",
       "      <td>91.000000</td>\n",
       "      <td>1423.000000</td>\n",
       "      <td>496.000000</td>\n",
       "      <td>252.000000</td>\n",
       "      <td>493.000000</td>\n",
       "    </tr>\n",
       "  </tbody>\n",
       "</table>\n",
       "<p>8 rows × 316 columns</p>\n",
       "</div>"
      ],
      "text/plain": [
       "          perpass        enum         rip         yam       l2vpn       bgmp  \\\n",
       "count  261.000000  769.000000  369.000000   65.000000  602.000000  74.000000   \n",
       "mean     8.015326    9.338101    1.601626   12.861538    7.468439   2.148649   \n",
       "std     18.733961   33.295553    4.827018   24.152431   18.298046   3.090784   \n",
       "min      1.000000    0.000000    0.000000    1.000000    1.000000   0.000000   \n",
       "25%      1.000000    1.000000    1.000000    1.000000    1.000000   1.000000   \n",
       "50%      2.000000    1.000000    1.000000    3.000000    2.000000   1.000000   \n",
       "75%      7.000000    4.000000    1.000000   10.000000    5.000000   1.000000   \n",
       "max    231.000000  502.000000   85.000000  133.000000  197.000000  20.000000   \n",
       "\n",
       "              ima      opsawg  bundled-domain-names  video-codec     ...      \\\n",
       "count  207.000000  595.000000             17.000000   102.000000     ...       \n",
       "mean    26.710145    8.710924              2.411765     5.441176     ...       \n",
       "std     76.347272   24.628358              2.670647     9.874032     ...       \n",
       "min      1.000000    1.000000              0.000000     1.000000     ...       \n",
       "25%      1.000000    1.000000              1.000000     1.000000     ...       \n",
       "50%      3.000000    2.000000              1.000000     2.000000     ...       \n",
       "75%     16.500000    6.000000              2.000000     5.000000     ...       \n",
       "max    799.000000  349.000000             11.000000    77.000000     ...       \n",
       "\n",
       "            perc     payload        trill  ietf-nntp       spud         imss  \\\n",
       "count  58.000000  207.000000   472.000000        1.0  78.000000  1386.000000   \n",
       "mean   13.362069    8.304348    16.811441        0.0   9.884615     1.704906   \n",
       "std    20.529566   18.610445    63.417268        NaN  18.352240     5.865416   \n",
       "min     1.000000    1.000000     1.000000        0.0   1.000000     0.000000   \n",
       "25%     1.000000    1.000000     1.000000        0.0   1.250000     1.000000   \n",
       "50%     5.500000    3.000000     3.000000        0.0   4.000000     1.000000   \n",
       "75%    11.500000    7.000000     8.000000        0.0   8.750000     1.000000   \n",
       "max    96.000000  145.000000  1114.000000        0.0  99.000000    91.000000   \n",
       "\n",
       "             dhcwg      rmonmib  public-iri    lemonade  \n",
       "count  1827.000000  1183.000000  189.000000  288.000000  \n",
       "mean     11.452107     2.658495   12.804233   17.909722  \n",
       "std      61.757912    17.197470   31.897255   53.059616  \n",
       "min       1.000000     0.000000    1.000000    1.000000  \n",
       "25%       1.000000     1.000000    1.000000    1.000000  \n",
       "50%       2.000000     1.000000    2.000000    2.000000  \n",
       "75%       5.000000     1.000000    8.000000    7.250000  \n",
       "max    1423.000000   496.000000  252.000000  493.000000  \n",
       "\n",
       "[8 rows x 316 columns]"
      ]
     },
     "execution_count": 11,
     "metadata": {},
     "output_type": "execute_result"
    }
   ],
   "source": [
    "people.describe()"
   ]
  },
  {
   "cell_type": "code",
   "execution_count": 12,
   "metadata": {
    "collapsed": false,
    "hidden": true
   },
   "outputs": [],
   "source": [
    "# not sure how the index ended up with NaN values, but need to change them to strings here so additional steps will work\n",
    "new_index = people.index.fillna('missing')\n",
    "people.index = new_index"
   ]
  },
  {
   "cell_type": "markdown",
   "metadata": {
    "hidden": true
   },
   "source": [
    "Split out the email address and header name from the From header we started with."
   ]
  },
  {
   "cell_type": "code",
   "execution_count": 13,
   "metadata": {
    "collapsed": false,
    "hidden": true
   },
   "outputs": [],
   "source": [
    "froms = pd.Series(people.index)\n",
    "emails = froms.apply(lambda x: email.utils.parseaddr(x)[1])\n",
    "emails.index = people.index\n",
    "names = froms.apply(lambda x: email.utils.parseaddr(x)[0])\n",
    "names.index = people.index\n",
    "people['email'] = emails\n",
    "people['name'] = names"
   ]
  },
  {
   "cell_type": "markdown",
   "metadata": {
    "hidden": true
   },
   "source": [
    "Let's create some summary statistical columns."
   ]
  },
  {
   "cell_type": "code",
   "execution_count": 14,
   "metadata": {
    "collapsed": false,
    "hidden": true
   },
   "outputs": [],
   "source": [
    "people['Total Messages'] = people[list_columns].sum(axis=1)\n",
    "people['Number of Groups'] = people[list_columns].count(axis=1)\n",
    "people['Median Messages per Group'] = people[list_columns].median(axis=1)"
   ]
  },
  {
   "cell_type": "code",
   "execution_count": 15,
   "metadata": {
    "collapsed": false,
    "hidden": true
   },
   "outputs": [
    {
     "data": {
      "text/plain": [
       "1203307.0"
      ]
     },
     "execution_count": 15,
     "metadata": {},
     "output_type": "execute_result"
    }
   ],
   "source": [
    "people['Total Messages'].sum()"
   ]
  },
  {
   "cell_type": "code",
   "execution_count": 16,
   "metadata": {
    "collapsed": false,
    "hidden": true
   },
   "outputs": [
    {
     "data": {
      "text/plain": [
       "count    101510.000000\n",
       "mean         11.854073\n",
       "std         120.914508\n",
       "min           0.000000\n",
       "25%           1.000000\n",
       "50%           1.000000\n",
       "75%           2.000000\n",
       "max       17452.000000\n",
       "Name: Total Messages, dtype: float64"
      ]
     },
     "execution_count": 16,
     "metadata": {},
     "output_type": "execute_result"
    }
   ],
   "source": [
    "people['Total Messages'].describe()"
   ]
  },
  {
   "cell_type": "markdown",
   "metadata": {
    "hidden": true
   },
   "source": [
    "In this corpus, **101,510** \"people\" sent a combined total of **1.2 million messages**. Most people sent only 1 message."
   ]
  },
  {
   "cell_type": "markdown",
   "metadata": {},
   "source": [
    "## Participation patterns"
   ]
  },
  {
   "cell_type": "markdown",
   "metadata": {},
   "source": [
    "The vast majority of people send only a few messages, and to only a couple of lists. (These histograms use a log axis for Y, without which you couldn't even see the columns besides the first.)"
   ]
  },
  {
   "cell_type": "code",
   "execution_count": 17,
   "metadata": {
    "collapsed": false
   },
   "outputs": [
    {
     "data": {
      "text/plain": [
       "<matplotlib.axes._subplots.AxesSubplot at 0x1182dc950>"
      ]
     },
     "execution_count": 17,
     "metadata": {},
     "output_type": "execute_result"
    },
    {
     "data": {
      "image/png": "[encoded data removed]",
      "text/plain": [
       "<matplotlib.figure.Figure at 0x114b43f90>"
      ]
     },
     "metadata": {},
     "output_type": "display_data"
    },
    {
     "data": {
      "image/png": "[encoded data removed]",
      "text/plain": [
       "<matplotlib.figure.Figure at 0x117a0b2d0>"
      ]
     },
     "metadata": {},
     "output_type": "display_data"
    }
   ],
   "source": [
    "people[['Total Messages']].plot(kind='hist', bins=100, logy=True, logx=False)\n",
    "people[['Number of Groups']].plot(kind='hist', bins=100, logy=True, logx=False)"
   ]
  },
  {
   "cell_type": "markdown",
   "metadata": {},
   "source": [
    "Let's limit our analysis for now to people who have sent at least 5 messages. We will also create log base 10 versions of our summary columns for easier graphing later."
   ]
  },
  {
   "cell_type": "code",
   "execution_count": 18,
   "metadata": {
    "collapsed": false
   },
   "outputs": [
    {
     "name": "stderr",
     "output_type": "stream",
     "text": [
      "/usr/local/lib/python2.7/site-packages/ipykernel/__main__.py:3: SettingWithCopyWarning: \n",
      "A value is trying to be set on a copy of a slice from a DataFrame.\n",
      "Try using .loc[row_indexer,col_indexer] = value instead\n",
      "\n",
      "See the caveats in the documentation: http://pandas.pydata.org/pandas-docs/stable/indexing.html#indexing-view-versus-copy\n",
      "  app.launch_new_instance()\n",
      "/usr/local/lib/python2.7/site-packages/ipykernel/__main__.py:4: SettingWithCopyWarning: \n",
      "A value is trying to be set on a copy of a slice from a DataFrame.\n",
      "Try using .loc[row_indexer,col_indexer] = value instead\n",
      "\n",
      "See the caveats in the documentation: http://pandas.pydata.org/pandas-docs/stable/indexing.html#indexing-view-versus-copy\n"
     ]
    }
   ],
   "source": [
    "working = people[people['Total Messages'] > 5]\n",
    "\n",
    "working['Total Messages (log)'] = np.log10(working['Total Messages'])\n",
    "working['Number of Groups (log)'] = np.log10(working['Number of Groups'])\n"
   ]
  },
  {
   "cell_type": "markdown",
   "metadata": {},
   "source": [
    "The median number of messages that a user sends to a group is also heavily weighted towards a small number, but the curve doesn't seem to drop off in the same extreme manner. There is a non-random tendency to send some messages to a group?"
   ]
  },
  {
   "cell_type": "code",
   "execution_count": 19,
   "metadata": {
    "collapsed": false
   },
   "outputs": [
    {
     "data": {
      "text/plain": [
       "<matplotlib.axes._subplots.AxesSubplot at 0x1161bce90>"
      ]
     },
     "execution_count": 19,
     "metadata": {},
     "output_type": "execute_result"
    },
    {
     "data": {
      "image/png": "[encoded data removed]",
      "text/plain": [
       "<matplotlib.figure.Figure at 0x112fd15d0>"
      ]
     },
     "metadata": {},
     "output_type": "display_data"
    }
   ],
   "source": [
    "working[['Median Messages per Group']].plot(kind='hist', bins=100, logy=True)"
   ]
  },
  {
   "cell_type": "markdown",
   "metadata": {},
   "source": [
    "Is there a relationship between the number of groups that a user has sent messages to and the number of messages that user has sent (total, or the median number to groups)?"
   ]
  },
  {
   "cell_type": "code",
   "execution_count": 20,
   "metadata": {
    "collapsed": false
   },
   "outputs": [
    {
     "data": {
      "text/plain": [
       "<matplotlib.axes._subplots.AxesSubplot at 0x114b75fd0>"
      ]
     },
     "execution_count": 20,
     "metadata": {},
     "output_type": "execute_result"
    },
    {
     "data": {
      "image/png": "[encoded data removed]",
      "text/plain": [
       "<matplotlib.figure.Figure at 0x119349110>"
      ]
     },
     "metadata": {},
     "output_type": "display_data"
    }
   ],
   "source": [
    "working.plot.scatter('Number of Groups','Total Messages', xlim=(1,300), ylim=(1,20000), logx=False, logy=True)"
   ]
  },
  {
   "cell_type": "markdown",
   "metadata": {},
   "source": [
    "It appears that there are interesting outliers here. Some who send a couple messages each to a large number of groups, but then a separate group of outliers that sends lots of messages and to lots of groups. That might be an elite component worthy of separate analysis."
   ]
  },
  {
   "cell_type": "markdown",
   "metadata": {},
   "source": [
    "A density graph will show, however, that while there are people who send many messages to a small number of groups, still, most people are clustered around sending few messages, to few groups."
   ]
  },
  {
   "cell_type": "code",
   "execution_count": 21,
   "metadata": {
    "collapsed": false
   },
   "outputs": [
    {
     "name": "stderr",
     "output_type": "stream",
     "text": [
      "/usr/local/lib/python2.7/site-packages/numpy/ma/core.py:6434: MaskedArrayFutureWarning: In the future the default for ma.maximum.reduce will be axis=0, not the current None, to match np.maximum.reduce. Explicitly pass 0 or None to silence this warning.\n",
      "  return self.reduce(a)\n",
      "/usr/local/lib/python2.7/site-packages/numpy/ma/core.py:6434: MaskedArrayFutureWarning: In the future the default for ma.minimum.reduce will be axis=0, not the current None, to match np.minimum.reduce. Explicitly pass 0 or None to silence this warning.\n",
      "  return self.reduce(a)\n"
     ]
    },
    {
     "data": {
      "image/png": "[encoded data removed]",
      "text/plain": [
       "<matplotlib.figure.Figure at 0x11346d710>"
      ]
     },
     "metadata": {},
     "output_type": "display_data"
    }
   ],
   "source": [
    "sns.jointplot(x='Number of Groups',y='Total Messages (log)', data=working, kind=\"kde\", xlim=(0,50), ylim=(0,3));"
   ]
  },
  {
   "cell_type": "markdown",
   "metadata": {},
   "source": [
    "## Relationships between groups and participants"
   ]
  },
  {
   "cell_type": "markdown",
   "metadata": {},
   "source": [
    "Can we learn implicit relationships between groups based on the messaging patterns of participants?"
   ]
  },
  {
   "cell_type": "markdown",
   "metadata": {},
   "source": [
    "### PCA"
   ]
  },
  {
   "cell_type": "markdown",
   "metadata": {},
   "source": [
    "We want to work with just the data of people and how many messages they sent to each group."
   ]
  },
  {
   "cell_type": "code",
   "execution_count": 22,
   "metadata": {
    "collapsed": true
   },
   "outputs": [],
   "source": [
    "df = people[people['Total Messages'] > 5]\n",
    "\n",
    "df = df.drop(columns=['email','name','Total Messages','Number of Groups','Median Messages per Group'])\n",
    "df = df.fillna(0)"
   ]
  },
  {
   "cell_type": "markdown",
   "metadata": {},
   "source": [
    "Principal Component Analysis (PCA) will seek to explain the most variance in the samples (participants) based on the features (messages sent to different lists). Let's try with two components and see what PCA sees as the most distinguishing dimensions of IETF participation."
   ]
  },
  {
   "cell_type": "code",
   "execution_count": 23,
   "metadata": {
    "collapsed": false
   },
   "outputs": [
    {
     "data": {
      "text/plain": [
       "PCA(copy=True, iterated_power='auto', n_components=2, random_state=None,\n",
       "  svd_solver='auto', tol=0.0, whiten=True)"
      ]
     },
     "execution_count": 23,
     "metadata": {},
     "output_type": "execute_result"
    }
   ],
   "source": [
    "import sklearn\n",
    "from sklearn.decomposition import PCA\n",
    "\n",
    "scaled = sklearn.preprocessing.maxabs_scale(df)\n",
    "\n",
    "pca = PCA(n_components=2, whiten=True)\n",
    "pca.fit(scaled)"
   ]
  },
  {
   "cell_type": "code",
   "execution_count": 24,
   "metadata": {
    "collapsed": false
   },
   "outputs": [
    {
     "data": {
      "text/html": [
       "<div>\n",
       "<style scoped>\n",
       "    .dataframe tbody tr th:only-of-type {\n",
       "        vertical-align: middle;\n",
       "    }\n",
       "\n",
       "    .dataframe tbody tr th {\n",
       "        vertical-align: top;\n",
       "    }\n",
       "\n",
       "    .dataframe thead th {\n",
       "        text-align: right;\n",
       "    }\n",
       "</style>\n",
       "<table border=\"1\" class=\"dataframe\">\n",
       "  <thead>\n",
       "    <tr style=\"text-align: right;\">\n",
       "      <th></th>\n",
       "      <th>perpass</th>\n",
       "      <th>enum</th>\n",
       "      <th>rip</th>\n",
       "      <th>yam</th>\n",
       "      <th>l2vpn</th>\n",
       "      <th>bgmp</th>\n",
       "      <th>ima</th>\n",
       "      <th>opsawg</th>\n",
       "      <th>bundled-domain-names</th>\n",
       "      <th>video-codec</th>\n",
       "      <th>...</th>\n",
       "      <th>perc</th>\n",
       "      <th>payload</th>\n",
       "      <th>trill</th>\n",
       "      <th>ietf-nntp</th>\n",
       "      <th>spud</th>\n",
       "      <th>imss</th>\n",
       "      <th>dhcwg</th>\n",
       "      <th>rmonmib</th>\n",
       "      <th>public-iri</th>\n",
       "      <th>lemonade</th>\n",
       "    </tr>\n",
       "  </thead>\n",
       "  <tbody>\n",
       "    <tr>\n",
       "      <th>0</th>\n",
       "      <td>0.030127</td>\n",
       "      <td>0.058292</td>\n",
       "      <td>0.003969</td>\n",
       "      <td>0.030922</td>\n",
       "      <td>0.172658</td>\n",
       "      <td>0.059051</td>\n",
       "      <td>0.026730</td>\n",
       "      <td>0.105092</td>\n",
       "      <td>0.005249</td>\n",
       "      <td>0.029205</td>\n",
       "      <td>...</td>\n",
       "      <td>0.044595</td>\n",
       "      <td>0.136939</td>\n",
       "      <td>0.041686</td>\n",
       "      <td>-0.0</td>\n",
       "      <td>0.021962</td>\n",
       "      <td>0.063578</td>\n",
       "      <td>0.076615</td>\n",
       "      <td>0.033714</td>\n",
       "      <td>0.017862</td>\n",
       "      <td>0.048214</td>\n",
       "    </tr>\n",
       "    <tr>\n",
       "      <th>1</th>\n",
       "      <td>-0.050187</td>\n",
       "      <td>0.056799</td>\n",
       "      <td>0.005827</td>\n",
       "      <td>0.008344</td>\n",
       "      <td>0.003475</td>\n",
       "      <td>0.073483</td>\n",
       "      <td>0.007039</td>\n",
       "      <td>-0.040954</td>\n",
       "      <td>-0.013285</td>\n",
       "      <td>-0.037760</td>\n",
       "      <td>...</td>\n",
       "      <td>-0.064697</td>\n",
       "      <td>-0.115755</td>\n",
       "      <td>-0.027195</td>\n",
       "      <td>-0.0</td>\n",
       "      <td>-0.025871</td>\n",
       "      <td>0.091040</td>\n",
       "      <td>0.036787</td>\n",
       "      <td>0.043550</td>\n",
       "      <td>-0.031863</td>\n",
       "      <td>0.042177</td>\n",
       "    </tr>\n",
       "  </tbody>\n",
       "</table>\n",
       "<p>2 rows × 316 columns</p>\n",
       "</div>"
      ],
      "text/plain": [
       "    perpass      enum       rip       yam     l2vpn      bgmp       ima  \\\n",
       "0  0.030127  0.058292  0.003969  0.030922  0.172658  0.059051  0.026730   \n",
       "1 -0.050187  0.056799  0.005827  0.008344  0.003475  0.073483  0.007039   \n",
       "\n",
       "     opsawg  bundled-domain-names  video-codec    ...         perc   payload  \\\n",
       "0  0.105092              0.005249     0.029205    ...     0.044595  0.136939   \n",
       "1 -0.040954             -0.013285    -0.037760    ...    -0.064697 -0.115755   \n",
       "\n",
       "      trill  ietf-nntp      spud      imss     dhcwg   rmonmib  public-iri  \\\n",
       "0  0.041686       -0.0  0.021962  0.063578  0.076615  0.033714    0.017862   \n",
       "1 -0.027195       -0.0 -0.025871  0.091040  0.036787  0.043550   -0.031863   \n",
       "\n",
       "   lemonade  \n",
       "0  0.048214  \n",
       "1  0.042177  \n",
       "\n",
       "[2 rows x 316 columns]"
      ]
     },
     "execution_count": 24,
     "metadata": {},
     "output_type": "execute_result"
    }
   ],
   "source": [
    "components_frame = pd.DataFrame(pca.components_)\n",
    "components_frame.columns = df.columns\n",
    "components_frame"
   ]
  },
  {
   "cell_type": "code",
   "execution_count": 25,
   "metadata": {
    "collapsed": false
   },
   "outputs": [
    {
     "name": "stdout",
     "output_type": "stream",
     "text": [
      "\n",
      "Component 0\n",
      "Most positive correlation:\n",
      " ['l3vpn' 'l2vpn' 'rtgwg' 'idr' 'ippm']\n",
      "Most negative correlation:\n",
      " ['ietf-dav-versioning' 'ietf-nntp' 'idna-update' 'ntpwg' 'cicm']\n",
      "\n",
      "Component 1\n",
      "Most positive correlation:\n",
      " ['mext' 'mip6' 'monami6' 'mipshop' 'netlmm']\n",
      "Most negative correlation:\n",
      " ['bess' 'http-auth' 'dispatch' 'curdle' 'payload']\n"
     ]
    }
   ],
   "source": [
    "for i, row in components_frame.iterrows():\n",
    "    print '\\nComponent %d' % i\n",
    "    r = row.sort_values(ascending=False)\n",
    "    print 'Most positive correlation:\\n %s' % r[:5].index.values\n",
    "    print 'Most negative correlation:\\n %s' % r[-5:].index.values"
   ]
  },
  {
   "cell_type": "markdown",
   "metadata": {},
   "source": [
    "Component 0 is mostly routing (Layer 3 and Layer 2 VPNs, the routing area working group, interdomain routing. (IP Performance/Measurement seems different -- is it related?)\n",
    "\n",
    "Component 1 is all Internet area groups, mostly related to IPv6, and specifically different groups working on mobility-related extensions to IPv6."
   ]
  },
  {
   "cell_type": "markdown",
   "metadata": {},
   "source": [
    "When data was unscaled, PCA components seemed to connect to ops and ipv6, a significantly different result.\n",
    "\n",
    "For our two components, we can see which features are most positively correlated and which are most negatively correlated. On positive correlation, looking up these groups, it seems like there is some meaningful coherence here. On Component 0, we see groups in the \"ops\" area: groups related to the management, configuration and measurement of networks. On the other component, we see groups in the Internet and transport areas: groups related to IPv6, the transport area and PSTN transport.\n",
    "\n",
    "That we see such different results when the data is first scaled by each feature perhaps suggests that the initial analysis was just picking up on the largest groups."
   ]
  },
  {
   "cell_type": "code",
   "execution_count": 26,
   "metadata": {
    "collapsed": false
   },
   "outputs": [
    {
     "data": {
      "text/plain": [
       "array([0.00289891, 0.00155329])"
      ]
     },
     "execution_count": 26,
     "metadata": {},
     "output_type": "execute_result"
    }
   ],
   "source": [
    "pca.explained_variance_"
   ]
  },
  {
   "cell_type": "markdown",
   "metadata": {},
   "source": [
    "The explained variance by our components seems extremely tiny."
   ]
  },
  {
   "cell_type": "markdown",
   "metadata": {},
   "source": [
    "With two components (or the two most significant components), we can attempt a basic visualization as a scatter plot."
   ]
  },
  {
   "cell_type": "code",
   "execution_count": 27,
   "metadata": {
    "collapsed": false
   },
   "outputs": [
    {
     "data": {
      "text/plain": [
       "<matplotlib.axes._subplots.AxesSubplot at 0x115f44ad0>"
      ]
     },
     "execution_count": 27,
     "metadata": {},
     "output_type": "execute_result"
    },
    {
     "data": {
      "image/png": "[encoded data removed]",
      "text/plain": [
       "<matplotlib.figure.Figure at 0x117d85190>"
      ]
     },
     "metadata": {},
     "output_type": "display_data"
    }
   ],
   "source": [
    "component_df = pd.DataFrame(pca.transform(df), columns=['PCA%i' % i for i in range(2)], index=df.index)\n",
    "component_df.plot.scatter(x='PCA0',y='PCA1')"
   ]
  },
  {
   "cell_type": "markdown",
   "metadata": {},
   "source": [
    "And with a larger number of components?"
   ]
  },
  {
   "cell_type": "code",
   "execution_count": 28,
   "metadata": {
    "collapsed": false
   },
   "outputs": [
    {
     "name": "stdout",
     "output_type": "stream",
     "text": [
      "\n",
      "Component 0\n",
      "Most positive correlation:\n",
      " ['l3vpn' 'l2vpn' 'rtgwg' 'idr' 'ippm']\n",
      "Most negative correlation:\n",
      " ['ietf-dav-versioning' 'idna-update' 'ntpwg' 'ietf-nntp' 'cicm']\n",
      "\n",
      "Component 1\n",
      "Most positive correlation:\n",
      " ['mext' 'mip6' 'monami6' 'mipshop' 'netlmm']\n",
      "Most negative correlation:\n",
      " ['bess' 'http-auth' 'dispatch' 'curdle' 'payload']\n",
      "\n",
      "Component 2\n",
      "Most positive correlation:\n",
      " ['mext' 'monami6' 'ianaplan' 'mtgvenue' 'iasa20']\n",
      "Most negative correlation:\n",
      " ['xcon' 'ipcdn' 'policy' 'adslmib' 'l3vpn']\n",
      "\n",
      "Component 3\n",
      "Most positive correlation:\n",
      " ['dispatch' 'sipcore' 'martini' 'rtcweb' 'stir']\n",
      "Most negative correlation:\n",
      " ['l2vpn' 'status' 'l3vpn' 'idr' 'rtgwg']\n",
      "\n",
      "Component 4\n",
      "Most positive correlation:\n",
      " ['ianaplan' 'mtgvenue' 'v6ops' 'iasa20' 'policy']\n",
      "Most negative correlation:\n",
      " ['netext' 'netlmm' 'mip6' 'monami6' 'mext']\n",
      "\n",
      "Component 5\n",
      "Most positive correlation:\n",
      " ['v6ops' 'dispatch' 'mtgvenue' 'ipv6' 'shim6']\n",
      "Most negative correlation:\n",
      " ['tls' 'websec' 'http-auth' 'woes' 'json']\n",
      "\n",
      "Component 6\n",
      "Most positive correlation:\n",
      " ['netconf' 'opsawg' 'netmod' 'supa' 'lmap']\n",
      "Most negative correlation:\n",
      " ['spring' 'l2vpn' 'idr' 'status' 'l3vpn']\n",
      "\n",
      "Component 7\n",
      "Most positive correlation:\n",
      " ['6lowpan' 'rohc' '6lo' 'roll' 'lwip']\n",
      "Most negative correlation:\n",
      " ['supa' 'isms' 'netmod' 'opsawg' 'netconf']\n",
      "\n",
      "Component 8\n",
      "Most positive correlation:\n",
      " ['p2psip' 'geopriv' 'ecrit' 'speermint' 'netconf']\n",
      "Most negative correlation:\n",
      " ['rtcweb' 'straw' 'sipcore' 'dispatch' 'policy']\n",
      "\n",
      "Component 9\n",
      "Most positive correlation:\n",
      " ['policy' 'p2psip' 'geopriv' 'ecrit' 'vipr']\n",
      "Most negative correlation:\n",
      " ['ltans' 'lemonade' 'sipcore' 'rohc' 'dispatch']\n"
     ]
    }
   ],
   "source": [
    "pca = PCA(n_components=10, whiten=True)\n",
    "pca.fit(scaled)\n",
    "components_frame = pd.DataFrame(pca.components_)\n",
    "components_frame.columns = df.columns\n",
    "for i, row in components_frame.iterrows():\n",
    "    print '\\nComponent %d' % i\n",
    "    r = row.sort_values(ascending=False)\n",
    "    print 'Most positive correlation:\\n %s' % r[:5].index.values\n",
    "    print 'Most negative correlation:\\n %s' % r[-5:].index.values"
   ]
  },
  {
   "cell_type": "markdown",
   "metadata": {},
   "source": [
    "There are definitely subject domain areas in these lists (the last one, for example, on groups related to phone calls and emergency services). Also interesting is the presence of some meta-topics, like `mtgvenue` or `policy` or `iasa20` (an IETF governance topic)."
   ]
  },
  {
   "cell_type": "markdown",
   "metadata": {},
   "source": [
    "_Future work: we might be able to use this sparse matrix of participation in different lists to provide recommendations of similarity. \"People who send messages to the same mix of groups you send to also like this other list\" or \"People who like this list, also often like this list\"._"
   ]
  },
  {
   "cell_type": "markdown",
   "metadata": {},
   "source": [
    "### Betweenness, PageRank and graph visualization"
   ]
  },
  {
   "cell_type": "markdown",
   "metadata": {},
   "source": [
    "Because we have people and the groups they send to, we can construct a _bipartite graph_."
   ]
  },
  {
   "cell_type": "markdown",
   "metadata": {},
   "source": [
    "We'll use just the top 5000 people, in order to make complicated calculations run faster."
   ]
  },
  {
   "cell_type": "code",
   "execution_count": 89,
   "metadata": {
    "collapsed": true
   },
   "outputs": [],
   "source": [
    "df = people.sort_values(by=\"Total Messages\",ascending=False)[:5000]\n",
    "df = df.drop(columns=['email','name','Total Messages','Number of Groups','Median Messages per Group'])\n",
    "df = df.fillna(0)"
   ]
  },
  {
   "cell_type": "code",
   "execution_count": 90,
   "metadata": {
    "collapsed": true
   },
   "outputs": [],
   "source": [
    "import networkx as nx\n",
    "\n",
    "G = nx.Graph()\n",
    "\n",
    "for group in df.columns:\n",
    "    G.add_node(group,type=\"group\")\n",
    "    \n",
    "for name, data in df.iterrows():\n",
    "    G.add_node(name,type=\"person\")\n",
    "    \n",
    "    for group, weight in data.iteritems():\n",
    "        if weight > 0:\n",
    "            G.add_edge(name,group,weight=weight)"
   ]
  },
  {
   "cell_type": "code",
   "execution_count": 91,
   "metadata": {
    "collapsed": false
   },
   "outputs": [
    {
     "data": {
      "text/plain": [
       "True"
      ]
     },
     "execution_count": 91,
     "metadata": {},
     "output_type": "execute_result"
    }
   ],
   "source": [
    "nx.is_bipartite(G)"
   ]
  },
  {
   "cell_type": "markdown",
   "metadata": {},
   "source": [
    "Yep, it is bipartite! Now, we can export a graph file for use in visualization software Gephi."
   ]
  },
  {
   "cell_type": "code",
   "execution_count": 92,
   "metadata": {
    "collapsed": true
   },
   "outputs": [],
   "source": [
    "nx.write_gexf(G,'ietf-participation-bipartite.gexf')"
   ]
  },
  {
   "cell_type": "code",
   "execution_count": 77,
   "metadata": {
    "collapsed": false
   },
   "outputs": [],
   "source": [
    "people_nodes, group_nodes = nx.algorithms.bipartite.sets(G)"
   ]
  },
  {
   "cell_type": "markdown",
   "metadata": {},
   "source": [
    "We can calculate the \"PageRank\" of each person and group, using the weights (number of messages) between groups and people to distribute a kind of influence."
   ]
  },
  {
   "cell_type": "code",
   "execution_count": 36,
   "metadata": {
    "collapsed": true
   },
   "outputs": [],
   "source": [
    "pr = nx.pagerank(G, weight=\"weight\")"
   ]
  },
  {
   "cell_type": "code",
   "execution_count": 37,
   "metadata": {
    "collapsed": true
   },
   "outputs": [],
   "source": [
    "nx.set_node_attributes(G, \"pagerank\", pr)"
   ]
  },
  {
   "cell_type": "code",
   "execution_count": 79,
   "metadata": {
    "collapsed": false
   },
   "outputs": [
    {
     "data": {
      "text/plain": [
       "[('pkix',\n",
       "  {'closeness': 0.3559326859845808,\n",
       "   'pagerank': 0.013142326567840455,\n",
       "   'type': 'group'}),\n",
       " ('v6ops',\n",
       "  {'closeness': 0.359521233877267,\n",
       "   'pagerank': 0.01199540427731154,\n",
       "   'type': 'group'}),\n",
       " ('manet',\n",
       "  {'closeness': 0.35557776735183255,\n",
       "   'pagerank': 0.011617411862990278,\n",
       "   'type': 'group'}),\n",
       " ('megaco',\n",
       "  {'closeness': 0.34997746321585244,\n",
       "   'pagerank': 0.010425997285129628,\n",
       "   'type': 'group'}),\n",
       " ('tls',\n",
       "  {'closeness': 0.35478598476475076,\n",
       "   'pagerank': 0.009250991467035554,\n",
       "   'type': 'group'}),\n",
       " ('ipv6',\n",
       "  {'closeness': 0.3596248273749985,\n",
       "   'pagerank': 0.009148007401110625,\n",
       "   'type': 'group'}),\n",
       " ('dhcwg',\n",
       "  {'closeness': 0.3559496045455649,\n",
       "   'pagerank': 0.007765780797499174,\n",
       "   'type': 'group'}),\n",
       " ('nfsv4',\n",
       "  {'closeness': 0.34916155081967615,\n",
       "   'pagerank': 0.007523624180314347,\n",
       "   'type': 'group'}),\n",
       " ('avt',\n",
       "  {'closeness': 0.35630526623350595,\n",
       "   'pagerank': 0.0074140379205285085,\n",
       "   'type': 'group'}),\n",
       " ('sipping',\n",
       "  {'closeness': 0.3535965521026345,\n",
       "   'pagerank': 0.007355625499818406,\n",
       "   'type': 'group'})]"
      ]
     },
     "execution_count": 79,
     "metadata": {},
     "output_type": "execute_result"
    }
   ],
   "source": [
    "sorted([node for node in list(G.nodes(data=True)) \n",
    "        if node[1]['type'] == 'group'], \n",
    "       key=lambda x: x[1]['pagerank'], \n",
    "       reverse =True)[:10]"
   ]
  },
  {
   "cell_type": "code",
   "execution_count": 39,
   "metadata": {
    "collapsed": false
   },
   "outputs": [
    {
     "data": {
      "text/plain": [
       "[(u'Internet-Drafts@ietf.org',\n",
       "  {'pagerank': 0.0070713172513326575, 'type': 'person'}),\n",
       " (u'internet-drafts@ietf.org',\n",
       "  {'pagerank': 0.006004091531198425, 'type': 'person'}),\n",
       " (u'The IESG <iesg-secretary@ietf.org>',\n",
       "  {'pagerank': 0.0022724560097850594, 'type': 'person'}),\n",
       " (u'\"Brian F. G. Bidulock\" <bidulock@openss7.org>',\n",
       "  {'pagerank': 0.0021779824102306413, 'type': 'person'}),\n",
       " (u'Brian E Carpenter <brian.e.carpenter@gmail.com>',\n",
       "  {'pagerank': 0.0018767482366074193, 'type': 'person'}),\n",
       " (u'Julian Reschke <julian.reschke@gmx.de>',\n",
       "  {'pagerank': 0.0015027689064297282, 'type': 'person'}),\n",
       " (u'Christer Holmberg <christer.holmberg@ericsson.com>',\n",
       "  {'pagerank': 0.001466883438794259, 'type': 'person'}),\n",
       " (u'Magnus Westerlund <magnus.westerlund@ericsson.com>',\n",
       "  {'pagerank': 0.0014615416644795753, 'type': 'person'}),\n",
       " (u'Alexandru Petrescu <alexandru.petrescu@gmail.com>',\n",
       "  {'pagerank': 0.0014551872718073227, 'type': 'person'}),\n",
       " (u'Juergen Schoenwaelder <j.schoenwaelder@jacobs-university.de>',\n",
       "  {'pagerank': 0.0013528723924042688, 'type': 'person'})]"
      ]
     },
     "execution_count": 39,
     "metadata": {},
     "output_type": "execute_result"
    }
   ],
   "source": [
    "sorted([node for node in list(G.nodes(data=True)) \n",
    "        if node[1]['type'] == 'person'], \n",
    "       key=lambda x: x[1]['pagerank'], \n",
    "       reverse =True)[:10]"
   ]
  },
  {
   "cell_type": "markdown",
   "metadata": {
    "collapsed": true
   },
   "source": [
    "However, PageRank is probably less informative than usual here, because this is a bipartite, non-directed graph. Instead, let's calculate a normalized, closeness centrality specific to bipartite graphs."
   ]
  },
  {
   "cell_type": "code",
   "execution_count": 55,
   "metadata": {
    "collapsed": false
   },
   "outputs": [],
   "source": [
    "person_nodes = [node[0] for node in G.nodes(data=True) if node[1]['type'] == 'person']"
   ]
  },
  {
   "cell_type": "markdown",
   "metadata": {},
   "source": [
    "**NB: Slow operation for large graphs.**"
   ]
  },
  {
   "cell_type": "code",
   "execution_count": 56,
   "metadata": {
    "collapsed": false
   },
   "outputs": [],
   "source": [
    "cc = nx.algorithms.bipartite.centrality.closeness_centrality(G, person_nodes, normalized=True)"
   ]
  },
  {
   "cell_type": "code",
   "execution_count": 67,
   "metadata": {
    "collapsed": false
   },
   "outputs": [
    {
     "name": "stdout",
     "output_type": "stream",
     "text": [
      "14350.0\n",
      "0.0\n"
     ]
    }
   ],
   "source": [
    "for node, value in cc.items():\n",
    "    if type(node) not in [str, unicode]:\n",
    "        print node\n",
    "        print value"
   ]
  },
  {
   "cell_type": "code",
   "execution_count": 68,
   "metadata": {
    "collapsed": false
   },
   "outputs": [],
   "source": [
    "del cc[14350.0] # remove a spurious node value"
   ]
  },
  {
   "cell_type": "code",
   "execution_count": 69,
   "metadata": {
    "collapsed": false
   },
   "outputs": [],
   "source": [
    "nx.set_node_attributes(G, \"closeness\", cc)"
   ]
  },
  {
   "cell_type": "code",
   "execution_count": 73,
   "metadata": {
    "collapsed": false
   },
   "outputs": [
    {
     "data": {
      "text/plain": [
       "[(u'The IESG <iesg-secretary@ietf.org>',\n",
       "  {'closeness': 0.9868366948021606,\n",
       "   'pagerank': 0.0022724560097850594,\n",
       "   'type': 'person'}),\n",
       " (u'Internet-Drafts@ietf.org',\n",
       "  {'closeness': 0.9539929833166545,\n",
       "   'pagerank': 0.0070713172513326575,\n",
       "   'type': 'person'}),\n",
       " (u'rfc-editor@rfc-editor.org',\n",
       "  {'closeness': 0.9402023998868673,\n",
       "   'pagerank': 0.0009746841867724066,\n",
       "   'type': 'person'}),\n",
       " (u'IESG Secretary <iesg-secretary@ietf.org>',\n",
       "  {'closeness': 0.9008435962768087,\n",
       "   'pagerank': 0.0002807038251991029,\n",
       "   'type': 'person'}),\n",
       " (u'internet-drafts@ietf.org',\n",
       "  {'closeness': 0.8593708974584362,\n",
       "   'pagerank': 0.006004091531198425,\n",
       "   'type': 'person'}),\n",
       " (u'RFC Errata System <rfc-editor@rfc-editor.org>',\n",
       "  {'closeness': 0.8320110323737133,\n",
       "   'pagerank': 0.0007550808281536069,\n",
       "   'type': 'person'}),\n",
       " (u'IETF Secretariat <ietf-secretariat-reply@ietf.org>',\n",
       "  {'closeness': 0.7967716275361747,\n",
       "   'pagerank': 0.0006896113846204211,\n",
       "   'type': 'person'}),\n",
       " (u'Stephen Farrell <stephen.farrell@cs.tcd.ie>',\n",
       "  {'closeness': 0.7950682374594905,\n",
       "   'pagerank': 0.0011066289200330618,\n",
       "   'type': 'person'}),\n",
       " (u'mailman-owner@ietf.org',\n",
       "  {'closeness': 0.7785936775293103,\n",
       "   'pagerank': 0.00034862204254603856,\n",
       "   'type': 'person'}),\n",
       " (u'IETF Secretariat <ietf-ipr@ietf.org>',\n",
       "  {'closeness': 0.7736515440381255,\n",
       "   'pagerank': 0.00018477030611373436,\n",
       "   'type': 'person'}),\n",
       " (u'Jari Arkko <jari.arkko@piuha.net>',\n",
       "  {'closeness': 0.7635911617497042,\n",
       "   'pagerank': 0.0007464353958992539,\n",
       "   'type': 'person'}),\n",
       " (u'\"\\\\\"IETF Meeting Session Request Tool\\\\\"\" <session_request_developers@ietf.org>',\n",
       "  {'closeness': 0.7560286857543724,\n",
       "   'pagerank': 0.0002574352275044201,\n",
       "   'type': 'person'}),\n",
       " (u'\"Ben Campbell\" <ben@nostrum.com>',\n",
       "  {'closeness': 0.7486918220082466,\n",
       "   'pagerank': 0.0003781279301526394,\n",
       "   'type': 'person'}),\n",
       " (u'Barry Leiba <barryleiba@computer.org>',\n",
       "  {'closeness': 0.747110635478134,\n",
       "   'pagerank': 0.0004956442076817724,\n",
       "   'type': 'person'}),\n",
       " (u'\"Benoit Claise\" <bclaise@cisco.com>',\n",
       "  {'closeness': 0.7448852077063789,\n",
       "   'pagerank': 0.00010804327010432101,\n",
       "   'type': 'person'}),\n",
       " (u'IETF Meeting Session Request Tool <session-request@ietf.org>',\n",
       "  {'closeness': 0.7405873176162147,\n",
       "   'pagerank': 8.536657811083365e-05,\n",
       "   'type': 'person'}),\n",
       " (u'\"Stephen Farrell\" <stephen.farrell@cs.tcd.ie>',\n",
       "  {'closeness': 0.7396431485685385,\n",
       "   'pagerank': 0.0001722024581649862,\n",
       "   'type': 'person'}),\n",
       " (u'\"\\\\\"IETF Secretariat\\\\\"\" <agenda@ietf.org>',\n",
       "  {'closeness': 0.7394169061127556,\n",
       "   'pagerank': 0.00019949720270833943,\n",
       "   'type': 'person'}),\n",
       " (u'\"Romascanu, Dan (Dan)\" <dromasca@avaya.com>',\n",
       "  {'closeness': 0.7218989284948738,\n",
       "   'pagerank': 0.0010721939727014011,\n",
       "   'type': 'person'}),\n",
       " (u'Ben Campbell <ben@nostrum.com>',\n",
       "  {'closeness': 0.7210734704742726,\n",
       "   'pagerank': 0.0003508343132033521,\n",
       "   'type': 'person'}),\n",
       " (u'Benoit Claise <bclaise@cisco.com>',\n",
       "  {'closeness': 0.7165846852525756,\n",
       "   'pagerank': 0.0009274541456439499,\n",
       "   'type': 'person'}),\n",
       " (u'Alissa Cooper <alissa@cooperw.in>',\n",
       "  {'closeness': 0.7145019494004659,\n",
       "   'pagerank': 0.0002306364436704322,\n",
       "   'type': 'person'}),\n",
       " (u'Spencer Dawkins at IETF <spencerdawkins.ietf@gmail.com>',\n",
       "  {'closeness': 0.712326317896754,\n",
       "   'pagerank': 0.00020131931526570844,\n",
       "   'type': 'person'}),\n",
       " (u'Adam Roach <adam@nostrum.com>',\n",
       "  {'closeness': 0.7120465559711704,\n",
       "   'pagerank': 0.0005390787955650238,\n",
       "   'type': 'person'}),\n",
       " (u'\"Alissa Cooper\" <alissa@cooperw.in>',\n",
       "  {'closeness': 0.7096426998974854,\n",
       "   'pagerank': 7.372991566143459e-05,\n",
       "   'type': 'person'})]"
      ]
     },
     "execution_count": 73,
     "metadata": {},
     "output_type": "execute_result"
    }
   ],
   "source": [
    "sorted([node for node in list(G.nodes(data=True)) \n",
    "        if node[1]['type'] == 'person'], \n",
    "       key=lambda x: x[1]['closeness'], \n",
    "       reverse=True)[:25]"
   ]
  },
  {
   "cell_type": "markdown",
   "metadata": {},
   "source": [
    "The people with the highest closeness centrality are the ones that have the most co-affiliation with every other person, or the shortest path to every other person. Automated accounts are, as we might expect, extremely high on this measure -- they're used to send announcements of publications and do so to basically every group. The individual people highest ranked on this measure include Stephen Farrell, Jari Arkko, Ben Campbell -- long-time participants with leadership roles. The highest ranked woman is Alissa Cooper, current Chair of the IETF."
   ]
  },
  {
   "cell_type": "markdown",
   "metadata": {},
   "source": [
    "_TODO: calculating bi-cliques (the people who all are connected to the same group) and then measuring correlation in bi-cliques (people who belong to many of the same groups) could allow for analysis of cohesive subgroups and a different network analysis/visualization._ See Borgatti, S.P. and Halgin, D. In press. “Analyzing Affiliation Networks”. In Carrington, P. and Scott, J. (eds) The Sage Handbook of Social Network Analysis. Sage Publications. http://www.steveborgatti.com/papers/bhaffiliations.pdf"
   ]
  },
  {
   "cell_type": "code",
   "execution_count": null,
   "metadata": {
    "collapsed": true
   },
   "outputs": [],
   "source": []
  }
 ],
 "metadata": {
  "kernelspec": {
   "display_name": "Python 2",
   "language": "python",
   "name": "python2"
  },
  "language_info": {
   "codemirror_mode": {
    "name": "ipython",
    "version": 2
   },
   "file_extension": ".py",
   "mimetype": "text/x-python",
   "name": "python",
   "nbconvert_exporter": "python",
   "pygments_lexer": "ipython2",
   "version": "2.7.9"
  },
  "notify_time": "10"
 },
 "nbformat": 4,
 "nbformat_minor": 0
}

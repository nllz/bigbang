{
 "cells": [
  {
   "cell_type": "markdown",
   "metadata": {},
   "source": [
    "This notebook shows how BigBang can help you analyze the senders in a particular mailing list archive, for the purposes of consolidating senders -- that is, entity resolution."
   ]
  },
  {
   "cell_type": "code",
   "execution_count": 170,
   "metadata": {
    "collapsed": false
   },
   "outputs": [],
   "source": [
    "%matplotlib inline"
   ]
  },
  {
   "cell_type": "markdown",
   "metadata": {},
   "source": [
    "Import the BigBang modules and other utilities as needed. These should be in your Python environment if you've installed BigBang correctly."
   ]
  },
  {
   "cell_type": "code",
   "execution_count": 168,
   "metadata": {
    "collapsed": false
   },
   "outputs": [],
   "source": [
    "import bigbang.mailman as mailman\n",
    "import bigbang.graph as graph\n",
    "import bigbang.process as process\n",
    "from bigbang.parse import get_date\n",
    "from bigbang.archive import Archive\n",
    "import bigbang.utils as utils\n",
    "import pandas as pd\n",
    "import datetime\n",
    "import matplotlib.pyplot as plt\n",
    "import numpy as np\n",
    "import math\n",
    "import pytz\n",
    "import pickle\n",
    "import os\n",
    "import csv\n",
    "import re\n",
    "import scipy\n",
    "import scipy.cluster.hierarchy as sch"
   ]
  },
  {
   "cell_type": "markdown",
   "metadata": {},
   "source": [
    "Load some sample data for analysis."
   ]
  },
  {
   "cell_type": "code",
   "execution_count": 6,
   "metadata": {
    "collapsed": false
   },
   "outputs": [
    {
     "name": "stdout",
     "output_type": "stream",
     "text": [
      "Opening 36 archive files\n",
      "Opening 17 archive files\n"
     ]
    }
   ],
   "source": [
    "urls = [\"http://www.ietf.org/mail-archive/text/ietf-privacy/\",\n",
    "        \"http://lists.w3.org/Archives/Public/public-privacy/\"]\n",
    "mlists = [mailman.open_list_archives(url,\"../archives\") for url in urls]\n",
    "activities = [Archive(ml).get_activity() for ml in mlists]"
   ]
  },
  {
   "cell_type": "markdown",
   "metadata": {},
   "source": [
    "Many mailing lists will have some duplicate senders: individuals who use multiple email addresses or are recorded as different senders when using the same email address. We want to identify those potential duplicates in order to get a more accurate representation of the distribution of senders."
   ]
  },
  {
   "cell_type": "code",
   "execution_count": 15,
   "metadata": {
    "collapsed": false
   },
   "outputs": [
    {
     "name": "stdout",
     "output_type": "stream",
     "text": [
      "6 candidates for consolidation.\n",
      "{u'<mohamed.boucadair@orange.com>': [u'<mohamed.boucadair@orange.com>', u'<mohamed.boucadair@orange-ftgroup.com>'], u'Scott Brim <scott.brim@gmail.com>': [u'Scott Brim <scott.brim@gmail.com>', u'Scott W Brim <scott.brim@gmail.com>'], u'Eric Burger <eburger-l@standardstrack.com>': [u'Eric Burger <eburger-l@standardstrack.com>', u'Eric Burger <eburger@standardstrack.com>'], u'Hannes Tschofenig <hannes.tschofenig@gmx.net>': [u'Hannes Tschofenig <hannes.tschofenig@gmx.net>', u'Hannes Tschofenig <hannes.tschofenig@nsn.com>', u'Hannes Tschofenig <Hannes.Tschofenig@gmx.net>', u'\"Hannes Tschofenig\" <Hannes.Tschofenig@gmx.net>', u'Hannes Tschofenig <Hannes.Tschofenig@nsn.com>'], u'\"Fred Baker (fred)\" <fred@cisco.com>': [u'\"Fred Baker (fred)\" <fred@cisco.com>', u'Fred Baker <fred@cisco.com>'], u'Rhys Smith <smith@cardiff.ac.uk>': [u'Rhys Smith <smith@CARDIFF.AC.UK>', u'Rhys Smith <smith@Cardiff.ac.uk>', u'Rhys Smith <smith@cardiff.ac.uk>']}\n"
     ]
    }
   ],
   "source": [
    "consolidates = []\n",
    "\n",
    "# alternative entity consolidation process, based on graph analysis\n",
    "consolidates_g = process.resolve_sender_entities(activities[0], lexical_distance=8)\n",
    "consolidates_g_reduced = {k: v for k,v in consolidates_g.iteritems() if len(v) > 1}\n",
    "\n",
    "print str(len(consolidates_g_reduced)) + ' candidates for consolidation.'\n",
    "print consolidates_g_reduced"
   ]
  },
  {
   "cell_type": "code",
   "execution_count": 16,
   "metadata": {
    "collapsed": false
   },
   "outputs": [
    {
     "name": "stdout",
     "output_type": "stream",
     "text": [
      "We removed: 10 columns.\n"
     ]
    }
   ],
   "source": [
    "a_consolidated = utils.repartition_dataframe(activities[0], consolidates_g)\n",
    "\n",
    "print 'We removed: ' + str(len(activities[0].columns) - len(a_consolidated.columns)) + ' columns.'"
   ]
  },
  {
   "cell_type": "code",
   "execution_count": 70,
   "metadata": {
    "collapsed": false
   },
   "outputs": [],
   "source": [
    "people = pd.DataFrame(a_consolidated.sum(0), columns=['Message Count'])"
   ]
  },
  {
   "cell_type": "code",
   "execution_count": 71,
   "metadata": {
    "collapsed": false
   },
   "outputs": [],
   "source": [
    "people['aka'] = None # new empty column\n",
    "for k,v in consolidates_g_reduced.iteritems():\n",
    "    people.ix[k, 'aka'] = ','.join(v)"
   ]
  },
  {
   "cell_type": "markdown",
   "metadata": {},
   "source": [
    "For manual review purposes, it would be useful if the list of people were sorted in a way that's related to their lexical distance. This way, you might see names that the algorithm didn't assume were the same, but might have been fairly similar, close together in the list, making them easier to manually update. This sorting is tricky and can't be perfectly convenient; here, we'll use `scipy` to do a hierarchical clustering and then sort based on the order of the ultimate leaves."
   ]
  },
  {
   "cell_type": "code",
   "execution_count": 75,
   "metadata": {
    "collapsed": false
   },
   "outputs": [
    {
     "data": {
      "image/png": "[encoded data removed]",
      "text/plain": [
       "<matplotlib.figure.Figure at 0x114b8a550>"
      ]
     },
     "metadata": {},
     "output_type": "display_data"
    }
   ],
   "source": [
    "levdf = process.matricize(people.index, process.from_header_distance)\n",
    "Y = sch.linkage(scipy.spatial.distance.squareform(levdf))\n",
    "Z = sch.dendrogram(Y)\n",
    "people = people.reindex(index=[levdf.index[x] for x in Z['leaves']])"
   ]
  },
  {
   "cell_type": "markdown",
   "metadata": {},
   "source": [
    "Let's export the people list to CSV, including that AKA column, for further manual review."
   ]
  },
  {
   "cell_type": "code",
   "execution_count": 77,
   "metadata": {
    "collapsed": false
   },
   "outputs": [],
   "source": [
    "del people['Message Count'] # we just care about exporting people/addresses for entity resolution\n",
    "people.to_csv('people_entity_resolution-%s.csv'% mailman.get_list_name(urls[0]), encoding='utf-8')"
   ]
  },
  {
   "cell_type": "markdown",
   "metadata": {},
   "source": [
    "If you review that spreadsheet, you should see individual people/addresses, and, for some, an AKA list. Our naive algorithm probably missed some; you can correct them manually by cutting an address from the first column and adding it to the aka column (comma-separated).\n",
    "\n",
    "I've done that for `people_entity_resolution-ietf-privacy_updated.csv`. Now, we want to import that spreadsheet and re-import the mailing list activity and have it merged to match."
   ]
  },
  {
   "cell_type": "code",
   "execution_count": 169,
   "metadata": {
    "collapsed": false
   },
   "outputs": [],
   "source": [
    "people_import = pd.read_csv('people_entity_resolution-ietf-privacy_updated.csv', encoding='utf-8', index_col=0, dtype=str)"
   ]
  },
  {
   "cell_type": "code",
   "execution_count": 166,
   "metadata": {
    "collapsed": false
   },
   "outputs": [
    {
     "name": "stdout",
     "output_type": "stream",
     "text": [
      "Opening 36 archive files\n"
     ]
    }
   ],
   "source": [
    "activity = Archive(mailman.open_list_archives(urls[0],\"../archives\")).get_activity()\n",
    "activity = pd.DataFrame(activity.sum(0), columns=['Message Count'])"
   ]
  },
  {
   "cell_type": "code",
   "execution_count": 167,
   "metadata": {
    "collapsed": false
   },
   "outputs": [],
   "source": [
    "activity_merged = people_import.merge(activity, how='outer', left_index=True, right_index=True)\n",
    "activity_merged['aka'] = activity_merged['aka'].apply(str)"
   ]
  },
  {
   "cell_type": "code",
   "execution_count": 160,
   "metadata": {
    "collapsed": false
   },
   "outputs": [],
   "source": [
    "def authoritative_index_based_on_alternative_row(df, col, ind):\n",
    "    for i, v in df[col].iteritems():\n",
    "        alt_email_addresses = re.split('(?<=>)\\,', str(v)) # split on comma only after the end of an email address in angle brackets\n",
    "        if ind in alt_email_addresses:\n",
    "            return i\n",
    "    return ind\n",
    "\n",
    "grouped = activity_merged.groupby(lambda x: authoritative_index_based_on_alternative_row(activity_merged, 'aka', x))"
   ]
  },
  {
   "cell_type": "code",
   "execution_count": 165,
   "metadata": {
    "collapsed": false
   },
   "outputs": [
    {
     "data": {
      "text/html": [
       "<div>\n",
       "<table border=\"1\" class=\"dataframe\">\n",
       "  <thead>\n",
       "    <tr style=\"text-align: right;\">\n",
       "      <th></th>\n",
       "      <th>Message Count</th>\n",
       "      <th>aka</th>\n",
       "    </tr>\n",
       "  </thead>\n",
       "  <tbody>\n",
       "    <tr>\n",
       "      <th>\"Alexander Pretschner\" &lt;alexander.pretschner@in.tum.de&gt;</th>\n",
       "      <td>1.0</td>\n",
       "      <td></td>\n",
       "    </tr>\n",
       "    <tr>\n",
       "      <th>\"Bryan McLaughlin (brmclaug)\" &lt;brmclaug@cisco.com&gt;</th>\n",
       "      <td>17.0</td>\n",
       "      <td></td>\n",
       "    </tr>\n",
       "    <tr>\n",
       "      <th>\"Caspar Bowden \\(travelling private e-mail\\)\" &lt;tharg@gmx.net&gt;</th>\n",
       "      <td>1.0</td>\n",
       "      <td></td>\n",
       "    </tr>\n",
       "    <tr>\n",
       "      <th>\"Fred Baker (fred)\" &lt;fred@cisco.com&gt;</th>\n",
       "      <td>11.0</td>\n",
       "      <td>\"Fred Baker (fred)\" &lt;fred@cisco.com&gt;,Fred Bake...</td>\n",
       "    </tr>\n",
       "    <tr>\n",
       "      <th>\"Hanka, Oliver\" &lt;oliver.hanka@tum.de&gt;</th>\n",
       "      <td>1.0</td>\n",
       "      <td></td>\n",
       "    </tr>\n",
       "    <tr>\n",
       "      <th>\"Horne, Rob\" &lt;rob.horne@trustis.com&gt;</th>\n",
       "      <td>4.0</td>\n",
       "      <td></td>\n",
       "    </tr>\n",
       "    <tr>\n",
       "      <th>\"Jiankang Yao\" &lt;yaojk@cnnic.cn&gt;</th>\n",
       "      <td>1.0</td>\n",
       "      <td></td>\n",
       "    </tr>\n",
       "    <tr>\n",
       "      <th>\"Joel M. Halpern\" &lt;jmh@joelhalpern.com&gt;</th>\n",
       "      <td>1.0</td>\n",
       "      <td></td>\n",
       "    </tr>\n",
       "    <tr>\n",
       "      <th>\"Smith, Bill\" &lt;bill.smith@paypal-inc.com&gt;</th>\n",
       "      <td>1.0</td>\n",
       "      <td></td>\n",
       "    </tr>\n",
       "    <tr>\n",
       "      <th>&lt;Dirk.von-Hugo@telekom.de&gt;</th>\n",
       "      <td>1.0</td>\n",
       "      <td></td>\n",
       "    </tr>\n",
       "    <tr>\n",
       "      <th>&lt;Frederick.Hirsch@nokia.com&gt;</th>\n",
       "      <td>1.0</td>\n",
       "      <td></td>\n",
       "    </tr>\n",
       "    <tr>\n",
       "      <th>&lt;mohamed.boucadair@orange.com&gt;</th>\n",
       "      <td>10.0</td>\n",
       "      <td>&lt;mohamed.boucadair@orange.com&gt;,&lt;mohamed.boucad...</td>\n",
       "    </tr>\n",
       "    <tr>\n",
       "      <th>=JeffH &lt;Jeff.Hodges@KingsMountain.com&gt;</th>\n",
       "      <td>11.0</td>\n",
       "      <td></td>\n",
       "    </tr>\n",
       "    <tr>\n",
       "      <th>Alissa Cooper &lt;acooper@cdt.org&gt;</th>\n",
       "      <td>20.0</td>\n",
       "      <td></td>\n",
       "    </tr>\n",
       "    <tr>\n",
       "      <th>Allison Mankin &lt;allison.mankin@gmail.com&gt;</th>\n",
       "      <td>2.0</td>\n",
       "      <td></td>\n",
       "    </tr>\n",
       "    <tr>\n",
       "      <th>Ashok Malhotra &lt;ashok.malhotra@oracle.com&gt;</th>\n",
       "      <td>3.0</td>\n",
       "      <td></td>\n",
       "    </tr>\n",
       "    <tr>\n",
       "      <th>Avri Doria &lt;avri@acm.org&gt;</th>\n",
       "      <td>11.0</td>\n",
       "      <td></td>\n",
       "    </tr>\n",
       "    <tr>\n",
       "      <th>Barry Leiba &lt;barryleiba@computer.org&gt;</th>\n",
       "      <td>2.0</td>\n",
       "      <td></td>\n",
       "    </tr>\n",
       "    <tr>\n",
       "      <th>Bernard Aboba &lt;bernard_aboba@hotmail.com&gt;</th>\n",
       "      <td>2.0</td>\n",
       "      <td></td>\n",
       "    </tr>\n",
       "    <tr>\n",
       "      <th>Bjoern Hoehrmann &lt;derhoermi@gmx.net&gt;</th>\n",
       "      <td>6.0</td>\n",
       "      <td></td>\n",
       "    </tr>\n",
       "    <tr>\n",
       "      <th>Brandon Williams &lt;brandon.williams@akamai.com&gt;</th>\n",
       "      <td>3.0</td>\n",
       "      <td></td>\n",
       "    </tr>\n",
       "    <tr>\n",
       "      <th>Brian E Carpenter &lt;brian.e.carpenter@gmail.com&gt;</th>\n",
       "      <td>5.0</td>\n",
       "      <td></td>\n",
       "    </tr>\n",
       "    <tr>\n",
       "      <th>Brian Trammell &lt;trammell@tik.ee.ethz.ch&gt;</th>\n",
       "      <td>2.0</td>\n",
       "      <td></td>\n",
       "    </tr>\n",
       "    <tr>\n",
       "      <th>Caspar Bowden &lt;caspar@PrivacyStrategy.eu&gt;</th>\n",
       "      <td>6.0</td>\n",
       "      <td></td>\n",
       "    </tr>\n",
       "    <tr>\n",
       "      <th>Chris Palmer &lt;palmer@google.com&gt;</th>\n",
       "      <td>1.0</td>\n",
       "      <td></td>\n",
       "    </tr>\n",
       "    <tr>\n",
       "      <th>Christian Huitema &lt;huitema@microsoft.com&gt;</th>\n",
       "      <td>10.0</td>\n",
       "      <td>\"Christian Huitema\" &lt;huitema@huitema.net&gt;</td>\n",
       "    </tr>\n",
       "    <tr>\n",
       "      <th>Claudia Diaz &lt;claudia.diaz@esat.kuleuven.be&gt;</th>\n",
       "      <td>9.0</td>\n",
       "      <td></td>\n",
       "    </tr>\n",
       "    <tr>\n",
       "      <th>Cullen Jennings &lt;fluffy@iii.ca&gt;</th>\n",
       "      <td>1.0</td>\n",
       "      <td></td>\n",
       "    </tr>\n",
       "    <tr>\n",
       "      <th>Dan Wing &lt;dwing@cisco.com&gt;</th>\n",
       "      <td>1.0</td>\n",
       "      <td></td>\n",
       "    </tr>\n",
       "    <tr>\n",
       "      <th>Daniel Kahn Gillmor &lt;dkg@fifthhorseman.net&gt;</th>\n",
       "      <td>1.0</td>\n",
       "      <td></td>\n",
       "    </tr>\n",
       "    <tr>\n",
       "      <th>...</th>\n",
       "      <td>...</td>\n",
       "      <td>...</td>\n",
       "    </tr>\n",
       "    <tr>\n",
       "      <th>Martin Thomson &lt;martin.thomson@gmail.com&gt;</th>\n",
       "      <td>4.0</td>\n",
       "      <td>\"Thomson, Martin\" &lt;Martin.Thomson@commscope.com&gt;</td>\n",
       "    </tr>\n",
       "    <tr>\n",
       "      <th>Mischa Tuffield &lt;mischa.tuffield@garlik.com&gt;</th>\n",
       "      <td>2.0</td>\n",
       "      <td></td>\n",
       "    </tr>\n",
       "    <tr>\n",
       "      <th>NICS Lab &lt;nicscfp@gmail.com&gt;</th>\n",
       "      <td>1.0</td>\n",
       "      <td></td>\n",
       "    </tr>\n",
       "    <tr>\n",
       "      <th>Nat Sakimura &lt;sakimura@gmail.com&gt;</th>\n",
       "      <td>8.0</td>\n",
       "      <td></td>\n",
       "    </tr>\n",
       "    <tr>\n",
       "      <th>Nick Doty &lt;npdoty@ischool.berkeley.edu&gt;</th>\n",
       "      <td>2.0</td>\n",
       "      <td></td>\n",
       "    </tr>\n",
       "    <tr>\n",
       "      <th>Nikos Fotiou &lt;fotiou@aueb.gr&gt;</th>\n",
       "      <td>3.0</td>\n",
       "      <td></td>\n",
       "    </tr>\n",
       "    <tr>\n",
       "      <th>Paul Ferguson &lt;fergdawgster@mykolab.com&gt;</th>\n",
       "      <td>1.0</td>\n",
       "      <td></td>\n",
       "    </tr>\n",
       "    <tr>\n",
       "      <th>Pete McCann &lt;mccap@petoni.org&gt;</th>\n",
       "      <td>1.0</td>\n",
       "      <td></td>\n",
       "    </tr>\n",
       "    <tr>\n",
       "      <th>Peter Mueller &lt;pmu@zurich.ibm.com&gt;</th>\n",
       "      <td>1.0</td>\n",
       "      <td></td>\n",
       "    </tr>\n",
       "    <tr>\n",
       "      <th>Pranesh Prakash &lt;pranesh@cis-india.org&gt;</th>\n",
       "      <td>1.0</td>\n",
       "      <td></td>\n",
       "    </tr>\n",
       "    <tr>\n",
       "      <th>Rhys Smith &lt;smith@cardiff.ac.uk&gt;</th>\n",
       "      <td>12.0</td>\n",
       "      <td>Rhys Smith &lt;smith@CARDIFF.AC.UK&gt;,Rhys Smith &lt;s...</td>\n",
       "    </tr>\n",
       "    <tr>\n",
       "      <th>Robin Wilton &lt;wilton@isoc.org&gt;</th>\n",
       "      <td>19.0</td>\n",
       "      <td></td>\n",
       "    </tr>\n",
       "    <tr>\n",
       "      <th>Rodolphe Marques &lt;rodolphe.marques@ua.pt&gt;</th>\n",
       "      <td>1.0</td>\n",
       "      <td></td>\n",
       "    </tr>\n",
       "    <tr>\n",
       "      <th>Russ Housley &lt;housley@vigilsec.com&gt;</th>\n",
       "      <td>1.0</td>\n",
       "      <td></td>\n",
       "    </tr>\n",
       "    <tr>\n",
       "      <th>S Moonesamy &lt;sm+ietf@elandsys.com&gt;</th>\n",
       "      <td>29.0</td>\n",
       "      <td></td>\n",
       "    </tr>\n",
       "    <tr>\n",
       "      <th>SM &lt;sm@resistor.net&gt;</th>\n",
       "      <td>28.0</td>\n",
       "      <td></td>\n",
       "    </tr>\n",
       "    <tr>\n",
       "      <th>Scott Brim &lt;scott.brim@gmail.com&gt;</th>\n",
       "      <td>19.0</td>\n",
       "      <td>Scott Brim &lt;scott.brim@gmail.com&gt;,Scott W Brim...</td>\n",
       "    </tr>\n",
       "    <tr>\n",
       "      <th>Sid Stamm &lt;sidstamm@gmail.com&gt;</th>\n",
       "      <td>1.0</td>\n",
       "      <td></td>\n",
       "    </tr>\n",
       "    <tr>\n",
       "      <th>Stefan Winter &lt;stefan.winter@restena.lu&gt;</th>\n",
       "      <td>1.0</td>\n",
       "      <td></td>\n",
       "    </tr>\n",
       "    <tr>\n",
       "      <th>Stephane Bortzmeyer &lt;bortzmeyer@nic.fr&gt;</th>\n",
       "      <td>11.0</td>\n",
       "      <td></td>\n",
       "    </tr>\n",
       "    <tr>\n",
       "      <th>Stephen Farrell &lt;stephen.farrell@cs.tcd.ie&gt;</th>\n",
       "      <td>43.0</td>\n",
       "      <td></td>\n",
       "    </tr>\n",
       "    <tr>\n",
       "      <th>Ted Hardie &lt;ted.ietf@gmail.com&gt;</th>\n",
       "      <td>3.0</td>\n",
       "      <td></td>\n",
       "    </tr>\n",
       "    <tr>\n",
       "      <th>Ted Lemon &lt;ted.lemon@nominum.com&gt;</th>\n",
       "      <td>4.0</td>\n",
       "      <td></td>\n",
       "    </tr>\n",
       "    <tr>\n",
       "      <th>Thomas Roessler &lt;tlr@w3.org&gt;</th>\n",
       "      <td>1.0</td>\n",
       "      <td></td>\n",
       "    </tr>\n",
       "    <tr>\n",
       "      <th>Vincent Roca &lt;vincent.roca@inria.fr&gt;</th>\n",
       "      <td>1.0</td>\n",
       "      <td></td>\n",
       "    </tr>\n",
       "    <tr>\n",
       "      <th>Wassim Haddad &lt;wassim.haddad@ericsson.com&gt;</th>\n",
       "      <td>1.0</td>\n",
       "      <td></td>\n",
       "    </tr>\n",
       "    <tr>\n",
       "      <th>joel jaeggli &lt;joelja@bogus.com&gt;</th>\n",
       "      <td>1.0</td>\n",
       "      <td></td>\n",
       "    </tr>\n",
       "    <tr>\n",
       "      <th>johnsonhammond2@hushmail.com</th>\n",
       "      <td>1.0</td>\n",
       "      <td></td>\n",
       "    </tr>\n",
       "    <tr>\n",
       "      <th>runnegar@isoc.org</th>\n",
       "      <td>2.0</td>\n",
       "      <td></td>\n",
       "    </tr>\n",
       "    <tr>\n",
       "      <th>zhou.sujing@zte.com.cn</th>\n",
       "      <td>5.0</td>\n",
       "      <td></td>\n",
       "    </tr>\n",
       "  </tbody>\n",
       "</table>\n",
       "<p>85 rows × 2 columns</p>\n",
       "</div>"
      ],
      "text/plain": [
       "                                                    Message Count  \\\n",
       "\"Alexander Pretschner\" <alexander.pretschner@in...            1.0   \n",
       "\"Bryan McLaughlin (brmclaug)\" <brmclaug@cisco.com>           17.0   \n",
       "\"Caspar Bowden \\(travelling private e-mail\\)\" <...            1.0   \n",
       "\"Fred Baker (fred)\" <fred@cisco.com>                         11.0   \n",
       "\"Hanka, Oliver\" <oliver.hanka@tum.de>                         1.0   \n",
       "\"Horne, Rob\" <rob.horne@trustis.com>                          4.0   \n",
       "\"Jiankang Yao\" <yaojk@cnnic.cn>                               1.0   \n",
       "\"Joel M. Halpern\" <jmh@joelhalpern.com>                       1.0   \n",
       "\"Smith, Bill\" <bill.smith@paypal-inc.com>                     1.0   \n",
       "<Dirk.von-Hugo@telekom.de>                                    1.0   \n",
       "<Frederick.Hirsch@nokia.com>                                  1.0   \n",
       "<mohamed.boucadair@orange.com>                               10.0   \n",
       "=JeffH <Jeff.Hodges@KingsMountain.com>                       11.0   \n",
       "Alissa Cooper <acooper@cdt.org>                              20.0   \n",
       "Allison Mankin <allison.mankin@gmail.com>                     2.0   \n",
       "Ashok Malhotra <ashok.malhotra@oracle.com>                    3.0   \n",
       "Avri Doria <avri@acm.org>                                    11.0   \n",
       "Barry Leiba <barryleiba@computer.org>                         2.0   \n",
       "Bernard Aboba <bernard_aboba@hotmail.com>                     2.0   \n",
       "Bjoern Hoehrmann <derhoermi@gmx.net>                          6.0   \n",
       "Brandon Williams <brandon.williams@akamai.com>                3.0   \n",
       "Brian E Carpenter <brian.e.carpenter@gmail.com>               5.0   \n",
       "Brian Trammell <trammell@tik.ee.ethz.ch>                      2.0   \n",
       "Caspar Bowden <caspar@PrivacyStrategy.eu>                     6.0   \n",
       "Chris Palmer <palmer@google.com>                              1.0   \n",
       "Christian Huitema <huitema@microsoft.com>                    10.0   \n",
       "Claudia Diaz <claudia.diaz@esat.kuleuven.be>                  9.0   \n",
       "Cullen Jennings <fluffy@iii.ca>                               1.0   \n",
       "Dan Wing <dwing@cisco.com>                                    1.0   \n",
       "Daniel Kahn Gillmor <dkg@fifthhorseman.net>                   1.0   \n",
       "...                                                           ...   \n",
       "Martin Thomson <martin.thomson@gmail.com>                     4.0   \n",
       "Mischa Tuffield <mischa.tuffield@garlik.com>                  2.0   \n",
       "NICS Lab <nicscfp@gmail.com>                                  1.0   \n",
       "Nat Sakimura <sakimura@gmail.com>                             8.0   \n",
       "Nick Doty <npdoty@ischool.berkeley.edu>                       2.0   \n",
       "Nikos Fotiou <fotiou@aueb.gr>                                 3.0   \n",
       "Paul Ferguson <fergdawgster@mykolab.com>                      1.0   \n",
       "Pete McCann <mccap@petoni.org>                                1.0   \n",
       "Peter Mueller <pmu@zurich.ibm.com>                            1.0   \n",
       "Pranesh Prakash <pranesh@cis-india.org>                       1.0   \n",
       "Rhys Smith <smith@cardiff.ac.uk>                             12.0   \n",
       "Robin Wilton <wilton@isoc.org>                               19.0   \n",
       "Rodolphe Marques <rodolphe.marques@ua.pt>                     1.0   \n",
       "Russ Housley <housley@vigilsec.com>                           1.0   \n",
       "S Moonesamy <sm+ietf@elandsys.com>                           29.0   \n",
       "SM <sm@resistor.net>                                         28.0   \n",
       "Scott Brim <scott.brim@gmail.com>                            19.0   \n",
       "Sid Stamm <sidstamm@gmail.com>                                1.0   \n",
       "Stefan Winter <stefan.winter@restena.lu>                      1.0   \n",
       "Stephane Bortzmeyer <bortzmeyer@nic.fr>                      11.0   \n",
       "Stephen Farrell <stephen.farrell@cs.tcd.ie>                  43.0   \n",
       "Ted Hardie <ted.ietf@gmail.com>                               3.0   \n",
       "Ted Lemon <ted.lemon@nominum.com>                             4.0   \n",
       "Thomas Roessler <tlr@w3.org>                                  1.0   \n",
       "Vincent Roca <vincent.roca@inria.fr>                          1.0   \n",
       "Wassim Haddad <wassim.haddad@ericsson.com>                    1.0   \n",
       "joel jaeggli <joelja@bogus.com>                               1.0   \n",
       "johnsonhammond2@hushmail.com                                  1.0   \n",
       "runnegar@isoc.org                                             2.0   \n",
       "zhou.sujing@zte.com.cn                                        5.0   \n",
       "\n",
       "                                                                                                  aka  \n",
       "\"Alexander Pretschner\" <alexander.pretschner@in...                                                     \n",
       "\"Bryan McLaughlin (brmclaug)\" <brmclaug@cisco.com>                                                     \n",
       "\"Caspar Bowden \\(travelling private e-mail\\)\" <...                                                     \n",
       "\"Fred Baker (fred)\" <fred@cisco.com>                \"Fred Baker (fred)\" <fred@cisco.com>,Fred Bake...  \n",
       "\"Hanka, Oliver\" <oliver.hanka@tum.de>                                                                  \n",
       "\"Horne, Rob\" <rob.horne@trustis.com>                                                                   \n",
       "\"Jiankang Yao\" <yaojk@cnnic.cn>                                                                        \n",
       "\"Joel M. Halpern\" <jmh@joelhalpern.com>                                                                \n",
       "\"Smith, Bill\" <bill.smith@paypal-inc.com>                                                              \n",
       "<Dirk.von-Hugo@telekom.de>                                                                             \n",
       "<Frederick.Hirsch@nokia.com>                                                                           \n",
       "<mohamed.boucadair@orange.com>                      <mohamed.boucadair@orange.com>,<mohamed.boucad...  \n",
       "=JeffH <Jeff.Hodges@KingsMountain.com>                                                                 \n",
       "Alissa Cooper <acooper@cdt.org>                                                                        \n",
       "Allison Mankin <allison.mankin@gmail.com>                                                              \n",
       "Ashok Malhotra <ashok.malhotra@oracle.com>                                                             \n",
       "Avri Doria <avri@acm.org>                                                                              \n",
       "Barry Leiba <barryleiba@computer.org>                                                                  \n",
       "Bernard Aboba <bernard_aboba@hotmail.com>                                                              \n",
       "Bjoern Hoehrmann <derhoermi@gmx.net>                                                                   \n",
       "Brandon Williams <brandon.williams@akamai.com>                                                         \n",
       "Brian E Carpenter <brian.e.carpenter@gmail.com>                                                        \n",
       "Brian Trammell <trammell@tik.ee.ethz.ch>                                                               \n",
       "Caspar Bowden <caspar@PrivacyStrategy.eu>                                                              \n",
       "Chris Palmer <palmer@google.com>                                                                       \n",
       "Christian Huitema <huitema@microsoft.com>                   \"Christian Huitema\" <huitema@huitema.net>  \n",
       "Claudia Diaz <claudia.diaz@esat.kuleuven.be>                                                           \n",
       "Cullen Jennings <fluffy@iii.ca>                                                                        \n",
       "Dan Wing <dwing@cisco.com>                                                                             \n",
       "Daniel Kahn Gillmor <dkg@fifthhorseman.net>                                                            \n",
       "...                                                                                               ...  \n",
       "Martin Thomson <martin.thomson@gmail.com>            \"Thomson, Martin\" <Martin.Thomson@commscope.com>  \n",
       "Mischa Tuffield <mischa.tuffield@garlik.com>                                                           \n",
       "NICS Lab <nicscfp@gmail.com>                                                                           \n",
       "Nat Sakimura <sakimura@gmail.com>                                                                      \n",
       "Nick Doty <npdoty@ischool.berkeley.edu>                                                                \n",
       "Nikos Fotiou <fotiou@aueb.gr>                                                                          \n",
       "Paul Ferguson <fergdawgster@mykolab.com>                                                               \n",
       "Pete McCann <mccap@petoni.org>                                                                         \n",
       "Peter Mueller <pmu@zurich.ibm.com>                                                                     \n",
       "Pranesh Prakash <pranesh@cis-india.org>                                                                \n",
       "Rhys Smith <smith@cardiff.ac.uk>                    Rhys Smith <smith@CARDIFF.AC.UK>,Rhys Smith <s...  \n",
       "Robin Wilton <wilton@isoc.org>                                                                         \n",
       "Rodolphe Marques <rodolphe.marques@ua.pt>                                                              \n",
       "Russ Housley <housley@vigilsec.com>                                                                    \n",
       "S Moonesamy <sm+ietf@elandsys.com>                                                                     \n",
       "SM <sm@resistor.net>                                                                                   \n",
       "Scott Brim <scott.brim@gmail.com>                   Scott Brim <scott.brim@gmail.com>,Scott W Brim...  \n",
       "Sid Stamm <sidstamm@gmail.com>                                                                         \n",
       "Stefan Winter <stefan.winter@restena.lu>                                                               \n",
       "Stephane Bortzmeyer <bortzmeyer@nic.fr>                                                                \n",
       "Stephen Farrell <stephen.farrell@cs.tcd.ie>                                                            \n",
       "Ted Hardie <ted.ietf@gmail.com>                                                                        \n",
       "Ted Lemon <ted.lemon@nominum.com>                                                                      \n",
       "Thomas Roessler <tlr@w3.org>                                                                           \n",
       "Vincent Roca <vincent.roca@inria.fr>                                                                   \n",
       "Wassim Haddad <wassim.haddad@ericsson.com>                                                             \n",
       "joel jaeggli <joelja@bogus.com>                                                                        \n",
       "johnsonhammond2@hushmail.com                                                                           \n",
       "runnegar@isoc.org                                                                                      \n",
       "zhou.sujing@zte.com.cn                                                                                 \n",
       "\n",
       "[85 rows x 2 columns]"
      ]
     },
     "execution_count": 165,
     "metadata": {},
     "output_type": "execute_result"
    }
   ],
   "source": [
    "def join_non_empty(l):\n",
    "    return ','.join([x for x in l if x not in ['', 'nan']])\n",
    "\n",
    "activity_merged = grouped.agg({'Message Count': np.sum, 'aka': join_non_empty})\n",
    "activity_merged"
   ]
  },
  {
   "cell_type": "markdown",
   "metadata": {},
   "source": [
    "Okay, we have properly consolidated columns (in this case, just Message Count and aka) for the people in our manually-adjusted input list, with aggregated message counts based on the aka column."
   ]
  }
 ],
 "metadata": {
  "kernelspec": {
   "display_name": "Python 2",
   "language": "python",
   "name": "python2"
  },
  "language_info": {
   "codemirror_mode": {
    "name": "ipython",
    "version": 2
   },
   "file_extension": ".py",
   "mimetype": "text/x-python",
   "name": "python",
   "nbconvert_exporter": "python",
   "pygments_lexer": "ipython2",
   "version": "2.7.9"
  }
 },
 "nbformat": 4,
 "nbformat_minor": 0
}

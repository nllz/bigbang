{
 "cells": [
  {
   "cell_type": "markdown",
   "metadata": {},
   "source": [
    "Experimenting with estimating the gender of mailing list participants."
   ]
  },
  {
   "cell_type": "code",
   "execution_count": 1,
   "metadata": {
    "collapsed": false
   },
   "outputs": [
    {
     "name": "stderr",
     "output_type": "stream",
     "text": [
      "/usr/local/lib/python2.7/site-packages/matplotlib/font_manager.py:273: UserWarning: Matplotlib is building the font cache using fc-list. This may take a moment.\n",
      "  warnings.warn('Matplotlib is building the font cache using fc-list. This may take a moment.')\n"
     ]
    }
   ],
   "source": [
    "%matplotlib inline"
   ]
  },
  {
   "cell_type": "markdown",
   "metadata": {},
   "source": [
    "Import the BigBang modules as needed. These should be in your Python environment if you've installed BigBang correctly."
   ]
  },
  {
   "cell_type": "code",
   "execution_count": 1,
   "metadata": {
    "collapsed": false
   },
   "outputs": [
    {
     "name": "stderr",
     "output_type": "stream",
     "text": [
      "/usr/local/lib/python2.7/site-packages/matplotlib/font_manager.py:273: UserWarning: Matplotlib is building the font cache using fc-list. This may take a moment.\n",
      "  warnings.warn('Matplotlib is building the font cache using fc-list. This may take a moment.')\n",
      "/usr/local/lib/python2.7/site-packages/IPython/core/interactiveshell.py:2885: FutureWarning: \n",
      "mpl_style had been deprecated and will be removed in a future version.\n",
      "Use `matplotlib.pyplot.style.use` instead.\n",
      "\n",
      "  exec(code_obj, self.user_global_ns, self.user_ns)\n"
     ]
    }
   ],
   "source": [
    "import bigbang.mailman as mailman\n",
    "import bigbang.graph as graph\n",
    "import bigbang.process as process\n",
    "from bigbang.parse import get_date\n",
    "from bigbang.archive import Archive\n",
    "reload(process)\n",
    "\n",
    "import pandas as pd\n",
    "import datetime\n",
    "import matplotlib.pyplot as plt\n",
    "import numpy as np\n",
    "import math\n",
    "import pytz\n",
    "import pickle\n",
    "import os\n",
    "\n",
    "from bigbang import parse\n",
    "from gender_detector import GenderDetector\n",
    "\n",
    "pd.options.display.mpl_style = 'default' # pandas has a set of preferred graph formatting options"
   ]
  },
  {
   "cell_type": "markdown",
   "metadata": {},
   "source": [
    "Now let's load the data for analysis."
   ]
  },
  {
   "cell_type": "code",
   "execution_count": 3,
   "metadata": {
    "collapsed": false
   },
   "outputs": [
    {
     "name": "stdout",
     "output_type": "stream",
     "text": [
      "Opening 36 archive files\n",
      "Opening 17 archive files\n"
     ]
    }
   ],
   "source": [
    "urls = [\"http://www.ietf.org/mail-archive/text/ietf-privacy/\",\n",
    "        \"http://lists.w3.org/Archives/Public/public-privacy/\"]\n",
    "mlists = [(url, mailman.open_list_archives(url,\"../archives\")) for url in urls]\n",
    "#activities = [Archive.get_activity(Archive(ml)) for ml in mlists]"
   ]
  },
  {
   "cell_type": "markdown",
   "metadata": {},
   "source": [
    "For each of our lists, we'll clean up the names, find the first name if there is one, and guess its gender. Pandas groups the data together for comparison. We keep count of the names we find that are ambiguous, for the next step."
   ]
  },
  {
   "cell_type": "code",
   "execution_count": 4,
   "metadata": {
    "collapsed": false
   },
   "outputs": [
    {
     "name": "stderr",
     "output_type": "stream",
     "text": [
      "/Users/nick/code/mailing-list-analysis/bigbang/bigbang/archive.py:74: FutureWarning: sort(columns=....) is deprecated, use sort_values(by=.....)\n",
      "  self.data.sort(columns='Date', inplace=True)\n"
     ]
    },
    {
     "data": {
      "text/html": [
       "<div>\n",
       "<table border=\"1\" class=\"dataframe\">\n",
       "  <thead>\n",
       "    <tr style=\"text-align: right;\">\n",
       "      <th></th>\n",
       "      <th>error</th>\n",
       "      <th>female</th>\n",
       "      <th>male</th>\n",
       "      <th>name unknown</th>\n",
       "      <th>unknown</th>\n",
       "    </tr>\n",
       "  </thead>\n",
       "  <tbody>\n",
       "    <tr>\n",
       "      <th>http://www.ietf.org/mail-archive/text/ietf-privacy/</th>\n",
       "      <td>NaN</td>\n",
       "      <td>3.0</td>\n",
       "      <td>52.0</td>\n",
       "      <td>18.0</td>\n",
       "      <td>26.0</td>\n",
       "    </tr>\n",
       "    <tr>\n",
       "      <th>http://lists.w3.org/Archives/Public/public-privacy/</th>\n",
       "      <td>1.0</td>\n",
       "      <td>16.0</td>\n",
       "      <td>95.0</td>\n",
       "      <td>43.0</td>\n",
       "      <td>33.0</td>\n",
       "    </tr>\n",
       "  </tbody>\n",
       "</table>\n",
       "</div>"
      ],
      "text/plain": [
       "                                                    error  female  male  \\\n",
       "http://www.ietf.org/mail-archive/text/ietf-priv...    NaN     3.0  52.0   \n",
       "http://lists.w3.org/Archives/Public/public-priv...    1.0    16.0  95.0   \n",
       "\n",
       "                                                    name unknown  unknown  \n",
       "http://www.ietf.org/mail-archive/text/ietf-priv...          18.0     26.0  \n",
       "http://lists.w3.org/Archives/Public/public-priv...          43.0     33.0  "
      ]
     },
     "execution_count": 4,
     "metadata": {},
     "output_type": "execute_result"
    }
   ],
   "source": [
    "detector = GenderDetector('us')\n",
    "\n",
    "gender_ambiguous_names = {}\n",
    "\n",
    "def guess_gender(name):\n",
    "    if not name:\n",
    "        return 'name unknown'\n",
    "    try:\n",
    "        if detector.guess(name) == 'unknown':\n",
    "            if name in gender_ambiguous_names:\n",
    "                gender_ambiguous_names[name] += 1\n",
    "            else:\n",
    "                gender_ambiguous_names[name] = 1\n",
    "        \n",
    "        return detector.guess(name)\n",
    "    except:\n",
    "        return 'error'\n",
    "\n",
    "def ml_shortname(url):\n",
    "    return url.rstrip(\"/\").split(\"/\")[-1]\n",
    "\n",
    "series = []  \n",
    "for (url, ml) in mlists:\n",
    "    activity = Archive.get_activity(Archive(ml)).sum(0)\n",
    "    activityFrame = pd.DataFrame(activity, columns=['Message Count'])\n",
    "    \n",
    "    activityFrame['Name'] = activityFrame.index.map(lambda x: parse.clean_from(x))    \n",
    "    activityFrame['First Name'] = activityFrame['Name'].map(lambda x: parse.guess_first_name(x))\n",
    "    activityFrame['Guessed Gender'] = activityFrame['First Name'].map(guess_gender)\n",
    "    \n",
    "    activityFrame.to_csv(('senders_guessed_gender-%s.csv' % ml_shortname(url)),encoding='utf-8')\n",
    "    \n",
    "    counts = activityFrame.groupby('Guessed Gender')['Message Count'].count()\n",
    "    counts.name=url\n",
    "    series.append(counts)\n",
    "\n",
    "pd.DataFrame(series)"
   ]
  },
  {
   "cell_type": "markdown",
   "metadata": {},
   "source": [
    "Let's quickly visualize the names that couldn't be guessed with our estimator and their distribution."
   ]
  },
  {
   "cell_type": "code",
   "execution_count": 14,
   "metadata": {
    "collapsed": false
   },
   "outputs": [
    {
     "data": {
      "text/plain": [
       "<matplotlib.axes._subplots.AxesSubplot at 0x10b0f68d0>"
      ]
     },
     "execution_count": 14,
     "metadata": {},
     "output_type": "execute_result"
    },
    {
     "data": {
      "image/png": "[encoded data removed]",
      "text/plain": [
       "<matplotlib.figure.Figure at 0x10b205210>"
      ]
     },
     "metadata": {},
     "output_type": "display_data"
    }
   ],
   "source": [
    "ser = pd.Series(gender_ambiguous_names)\n",
    "ser.sort_values(ascending=False).plot(kind='bar')"
   ]
  },
  {
   "cell_type": "markdown",
   "metadata": {},
   "source": [
    "This distribution may vary by the particular list, but it seems to be a power distribution. That is, with a fairly small supplement of manually providing genders for the names/identities on the list, we can very signficantly improve the fraction of messages with an estimated gender."
   ]
  },
  {
   "cell_type": "markdown",
   "metadata": {
    "collapsed": true
   },
   "source": [
    "With a couple minutes of manual work from someone familiar with the group, I've created an updated CSV that contains a manually-entered gender column, in addition to the automated guess. Let's see how much of a difference that makes."
   ]
  },
  {
   "cell_type": "code",
   "execution_count": 35,
   "metadata": {
    "collapsed": false
   },
   "outputs": [],
   "source": [
    "url = \"http://lists.w3.org/Archives/Public/public-privacy/\"\n",
    "csv_guessed = ('senders_guessed_gender-%s.csv' % ml_shortname(url))\n",
    "csv_manual = ('senders_manual_gender-%s.csv' % ml_shortname(url))\n",
    "\n",
    "guessed = pd.read_csv(csv_guessed)\n",
    "manual = pd.read_csv(csv_manual)"
   ]
  },
  {
   "cell_type": "code",
   "execution_count": 34,
   "metadata": {
    "collapsed": false
   },
   "outputs": [
    {
     "data": {
      "text/plain": [
       "<matplotlib.axes._subplots.AxesSubplot at 0x10fdb07d0>"
      ]
     },
     "execution_count": 34,
     "metadata": {},
     "output_type": "execute_result"
    },
    {
     "data": {
      "image/png": "[encoded data removed]",
      "text/plain": [
       "<matplotlib.figure.Figure at 0x10fd95d50>"
      ]
     },
     "metadata": {},
     "output_type": "display_data"
    }
   ],
   "source": [
    "def combined_gender(row):\n",
    "    if str(row['Manual Gender']) != 'nan':\n",
    "        return row['Manual Gender']\n",
    "    else:\n",
    "        return row['Guessed Gender']\n",
    "manual['Combined Gender'] = manual.apply(combined_gender, axis=1)\n",
    "\n",
    "combined_series = manual.groupby('Combined Gender')['Message Count'].sum()\n",
    "guessed_series = manual.groupby('Guessed Gender')['Message Count'].sum()\n",
    "compared_counts = pd.DataFrame({'Manual':combined_series, 'Guessed':guessed_series})\n",
    "compared_counts.plot(kind='bar')"
   ]
  },
  {
   "cell_type": "code",
   "execution_count": 62,
   "metadata": {
    "collapsed": false
   },
   "outputs": [
    {
     "data": {
      "image/png": "[encoded data removed]",
      "text/plain": [
       "<matplotlib.figure.Figure at 0x111b98790>"
      ]
     },
     "metadata": {},
     "output_type": "display_data"
    }
   ],
   "source": [
    "figure,axes = plt.subplots(ncols=2, figsize=(8,4))\n",
    "guessed_series.rename(\"Guessed\").plot(kind='pie', ax=axes[0])\n",
    "combined_series.rename(\"Manual\").plot(kind='pie', ax=axes[1])\n",
    "axes[0].set_aspect('equal')\n",
    "axes[1].set_aspect('equal')"
   ]
  },
  {
   "cell_type": "code",
   "execution_count": null,
   "metadata": {
    "collapsed": true
   },
   "outputs": [],
   "source": []
  }
 ],
 "metadata": {
  "kernelspec": {
   "display_name": "Python 2",
   "language": "python",
   "name": "python2"
  },
  "language_info": {
   "codemirror_mode": {
    "name": "ipython",
    "version": 2
   },
   "file_extension": ".py",
   "mimetype": "text/x-python",
   "name": "python",
   "nbconvert_exporter": "python",
   "pygments_lexer": "ipython2",
   "version": "2.7.9"
  }
 },
 "nbformat": 4,
 "nbformat_minor": 0
}
